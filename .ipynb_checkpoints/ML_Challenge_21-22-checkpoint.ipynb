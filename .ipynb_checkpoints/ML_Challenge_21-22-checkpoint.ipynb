{
 "cells": [
  {
   "cell_type": "markdown",
   "metadata": {},
   "source": [
    "# Machine Learning 2021/2022 - Challenge \n",
    "\n",
    "<hr>\n",
    "\n",
    "# Identification\n"
   ]
  },
  {
   "cell_type": "code",
   "execution_count": 1,
   "metadata": {},
   "outputs": [],
   "source": [
    "yourNameSurname='Vincenzo Imperati' # e.g., yourNameSurname='Mario Rossi'\n",
    "yourMatricolaNumber='1834930' # e.g., yourMatricolaNumber='12345678'\n",
    "yourStudentEMAIL='imperati.1834930@studenti.uniroma1.it' # e.g., yourStudentEMAIL='rossim.12345678@studenti.uniroma1.it'"
   ]
  },
  {
   "cell_type": "markdown",
   "metadata": {},
   "source": [
    "<hr>\n",
    "\n",
    "## 1. Mandatory Rules:\n",
    "- This year the results of the challenges will count 11,2/28 of your final grade (full info about grades <a href='https://twiki.di.uniroma1.it/twiki/view/ApprAuto '>here</a>).\n",
    "- Only one submission is allowed. We will not consider multiple submissions.\n",
    "- Please remember your solution must be <b>\"YOUR SOLUTION\"</b>, hence you are requested to deliver your individual answers/arguments/opinions/critics.\n",
    "- Mail your solution (with your <b>jupyter notebook</b> and the cleaned dataset) only to stefano.faralli@uniroma1.it <b>deadlines are announced on the ML google group and <a href='https://twiki.di.uniroma1.it/twiki/view/ApprAuto'>here</a> (NO EXCEPTIONS)</b> if you miss to deliver your solution you must wait the next (if any) available deadline. \n",
    "- The subject of your email must be: \"[ML-21-22-Challenge_solution] NAME - SURNAME - MATRICOLA\".\n",
    "- Double check the subject of your email and the attachments.\n",
    "- In case you want to compress the attachment, <b>USE ONLY STANDARD ZIP compression</b> (NO RAR,7Z etc..).\n",
    "- <b>Please sumbit The notebook (with SAVED OUTPUTS) and the cleaned dataset!</b>.\n",
    "- Your solution might be considered as the \"copy\" of others solutions, in that specific case the resulting score for all involved students will be 0/8.\n",
    "- Then read carefully all the part of the jupyter notebook and fill all fields.\n",
    "- <b>solutions (and correspondig points) are evaluated mainly on your thoughts/comments/opinions</b>.  \n",
    "- If you have questions <b>Don't write \"personal\" emails</b> to Stefano Faralli, instead <b>use our google group</b>.\n",
    "- A solution having a summary discussion with less than 500 words is evaluated with 0 points.\n",
    "- Comments summary etc.. must be in <b>English</b>."
   ]
  },
  {
   "cell_type": "markdown",
   "metadata": {},
   "source": [
    "<hr>\n",
    "\n",
    "\n",
    "### Dataset and task Description:\n",
    "<img width='400' src='news-online.jpeg'/>\n",
    "\n",
    "- The challenge is about online news popularity;\n",
    "- The provided dataset consists of one single csv file (\"OnlineNewsPopularity.csv\");\n",
    "- The provided dataset is a modified <b>noisy</b> version of the original dataset described in [1];\n",
    "\n",
    "[1] K. Fernandes, P. Vinagre and P. Cortez. A Proactive Intelligent Decision\n",
    "    Support System for Predicting the Popularity of Online News. Proceedings\n",
    "    of the 17th EPIA 2015 - Portuguese Conference on Artificial Intelligence,\n",
    "    September, Coimbra, Portugal\n",
    "\n",
    "\n",
    "This dataset summarizes a heterogeneous set of features about articles published by Mashable in a period of two years. The goal of the task is to predict the number of shares in social networks (popularity).\n",
    "\n",
    "Number of Instances: <b>39,797</b> \n",
    "\n",
    "Number of Attributes: <b>61</b>\n",
    "\n",
    "Target: <b>shares</b>\n",
    "\n",
    "### Attribute Information:\n",
    "\n",
    "<table>\n",
    " <tr><th> index </th><th>name</th><th>description</th></tr>\n",
    " <tr><td>0</td><td>url</td><td>URL of the article</td></tr>\n",
    " <tr><td>1</td><td>timedelta</td><td>Days between the article publication and the dataset acquisition</td></tr>\n",
    " <tr><td>2</td><td>n_tokens_title</td><td>Number of words in the title</td></tr>\n",
    " <tr><td>3</td><td>n_tokens_content</td><td>Number of words in the content</td></tr>\n",
    " <tr><td>4</td><td>n_unique_tokens</td><td>Rate of unique words in the content</td></tr>\n",
    " <tr><td>5</td><td>n_non_stop_words</td><td>Rate of non-stop words in the content</td></tr>\n",
    " <tr><td>6</td><td>n_non_stop_unique_tokens</td><td>Rate of unique non-stop words in content</td></tr>\n",
    " <tr><td>7</td><td>num_hrefs</td><td>Number of links</td></tr>\n",
    " <tr><td>8</td><td>num_self_hrefs</td><td>Number of links to other articles published by Mashable</td></tr>\n",
    " <tr><td>9</td><td>num_imgs</td><td>Number of images</td></tr>\n",
    " <tr><td>10</td><td>num_videos</td><td>Number of videos</td></tr>\n",
    " <tr><td>11</td><td>average_token_length</td><td>Average length of the words in the content</td></tr>\n",
    " <tr><td>12</td><td>num_keywords</td><td>Number of keywords in the metadata</td></tr>\n",
    " <tr><td>13</td><td>data_channel_is_lifestyle</td><td>Is data channel 'Lifestyle'?</td></tr>\n",
    " <tr><td>14</td><td>data_channel_is_entertainment</td><td>Is data channel 'Entertainment'?</td></tr>\n",
    " <tr><td>15</td><td>data_channel_is_bus</td><td>Is data channel 'Business'?</td></tr>\n",
    " <tr><td>16</td><td>data_channel_is_socmed</td><td>Is data channel 'Social Media'?</td></tr>\n",
    " <tr><td>17</td><td>data_channel_is_tech</td><td>Is data channel 'Tech'?</td></tr>\n",
    " <tr><td>18</td><td>data_channel_is_world</td><td>Is data channel 'World'?</td></tr>\n",
    " <tr><td>19</td><td>kw_min_min</td><td>Worst keyword (min. shares)</td></tr>\n",
    " <tr><td>20</td><td>kw_max_min</td><td>Worst keyword (max. shares)</td></tr>\n",
    " <tr><td>21</td><td>kw_avg_min</td><td>Worst keyword (avg. shares)</td></tr>\n",
    " <tr><td>22</td><td>kw_min_max</td><td>Best keyword (min. shares)</td></tr>\n",
    " <tr><td>23</td><td>kw_max_max</td><td>Best keyword (max. shares)</td></tr>\n",
    " <tr><td>24</td><td>kw_avg_max</td><td>Best keyword (avg. shares)</td></tr>\n",
    " <tr><td>25</td><td>kw_min_avg</td><td>Avg. keyword (min. shares)</td></tr>\n",
    " <tr><td>26</td><td>kw_max_avg</td><td>Avg. keyword (max. shares)</td></tr>\n",
    " <tr><td>27</td><td>kw_avg_avg</td><td>Avg. keyword (avg. shares)</td></tr>\n",
    " <tr><td>28</td><td>self_reference_min_shares</td><td>Min. shares of referenced articles in Mashable</td></tr>\n",
    " <tr><td>29</td><td>self_reference_max_shares</td><td>Max. shares of referenced articles in Mashable</td></tr>\n",
    " <tr><td>30</td><td>self_reference_avg_sharess</td><td>Avg. shares of referenced articles in Mashable</td></tr>\n",
    " <tr><td>31</td><td>weekday_is_monday</td><td>Was the article published on a Monday?</td></tr>\n",
    " <tr><td>32</td><td>weekday_is_tuesday</td><td>Was the article published on a Tuesday?</td></tr>\n",
    " <tr><td>33</td><td>weekday_is_wednesday</td><td>Was the article published on a Wednesday?</td></tr>\n",
    " <tr><td>34</td><td>weekday_is_thursday</td><td>Was the article published on a Thursday?</td></tr>\n",
    " <tr><td>35</td><td>weekday_is_friday</td><td>Was the article published on a Friday?</td></tr>\n",
    " <tr><td>36</td><td>weekday_is_saturday</td><td>Was the article published on a Saturday?</td></tr>\n",
    " <tr><td>37</td><td>weekday_is_sunday</td><td> Was the article published on a Sunday?</td></tr>\n",
    " <tr><td>38</td><td>is_weekend</td><td>Was the article published on the weekend?</td></tr>\n",
    " <tr><td>39</td><td>LDA_00</td><td>Closeness to LDA topic 0</td></tr>\n",
    " <tr><td>40</td><td>LDA_01</td><td>Closeness to LDA topic 1</td></tr>\n",
    " <tr><td>41</td><td>LDA_02</td><td>Closeness to LDA topic 2</td></tr>\n",
    " <tr><td>42</td><td>LDA_03</td><td>Closeness to LDA topic 3</td></tr>\n",
    " <tr><td>43</td><td>LDA_04</td><td>Closeness to LDA topic 4</td></tr>\n",
    " <tr><td>44</td><td>global_subjectivity</td><td>Text subjectivity</td></tr>\n",
    " <tr><td>45</td><td>global_sentiment_polarity</td><td>Text sentiment polarity</td></tr>\n",
    " <tr><td>46</td><td>global_rate_positive_words</td><td>Rate of positive words in the content</td></tr>\n",
    " <tr><td>47</td><td>global_rate_negative_words</td><td> Rate of negative words in the content</td></tr>\n",
    " <tr><td>48</td><td>rate_positive_words</td><td>Rate of positive words among non-neutral tokens</td></tr>\n",
    " <tr><td>49</td><td>rate_negative_words</td><td>Rate of negative words among non-neutral tokens</td></tr>\n",
    " <tr><td>50</td><td>avg_positive_polarity</td><td>Avg. polarity of positive words</td></tr>\n",
    " <tr><td>51</td><td>min_positive_polarity</td><td>Min. polarity of positive words</td></tr>\n",
    " <tr><td>52</td><td>max_positive_polarity</td><td>Max. polarity of positive words</td></tr>\n",
    " <tr><td>53</td><td>avg_negative_polarity</td><td>Avg. polarity of negative words</td></tr>\n",
    " <tr><td>54</td><td>min_negative_polarity</td><td>Min. polarity of negative words</td></tr>\n",
    " <tr><td>55</td><td>max_negative_polarity</td><td>Max. polarity of negative words</td></tr>\n",
    " <tr><td>56</td><td>title_subjectivity</td><td>Title subjectivity</td></tr>\n",
    " <tr><td>57</td><td>title_sentiment_polarity</td><td>Title polarity</td></tr>\n",
    " <tr><td>58</td><td>abs_title_subjectivity</td><td>Absolute subjectivity level</td></tr>\n",
    " <tr><td>59</td><td>abs_title_sentiment_polarity</td><td>Absolute polarity level</td></tr>\n",
    "     <tr><td>60</td><td>shares</td><td>Number of shares (target)</td></tr>\n",
    "</table>\n",
    "\n"
   ]
  },
  {
   "cell_type": "markdown",
   "metadata": {},
   "source": [
    "<hr>\n",
    "\n",
    "# 2. Pre-processing (up to 3 of 11.2 points)     \n",
    "     \n",
    "     \n",
    "## 2.1 Clean and Load the Dataset (up to 1 of 11.2 points)\n",
    "Use the following two cells (a code cell and, a markdown cell) to: \n",
    "- create a pandas DataFrame by loading a cleaned version of the \"OnlineNewsPopularity.cvs\" file.  \n",
    "- describe the identified noise and the methodology used to fix the problems. "
   ]
  },
  {
   "cell_type": "code",
   "execution_count": 2,
   "metadata": {
    "scrolled": true
   },
   "outputs": [
    {
     "name": "stdout",
     "output_type": "stream",
     "text": [
      "DEBUG MESSAGE: Try to load DataFrame: <class 'NoneType'>\n",
      "DEBUG MESSAGE: Try to load DataFrame: <class 'pandas.core.frame.DataFrame'>\n",
      "DEBUG MESSAGE: Cleaning and Loading Dataset done\n"
     ]
    }
   ],
   "source": [
    "#Clean and Load the Dataset\n",
    "\n",
    "import pandas as pd\n",
    "import csv\n",
    "import matplotlib.pyplot as plt\n",
    "import numpy as np \n",
    "\n",
    "def get_df(filename):\n",
    "    try:\n",
    "        df = pd.read_csv(filename, sep=',', low_memory=False)\n",
    "    except:\n",
    "        return None\n",
    "    return df\n",
    "    \n",
    "def clean_and_load_dataset(filename):\n",
    "    # try to read dataset\n",
    "    original_csv = filename\n",
    "    df = get_df(original_csv)\n",
    "    print(\"DEBUG MESSAGE: Try to load DataFrame: {}\".format(type(df)))\n",
    "\n",
    "    # write dataset in new csv file excluding rows that do not have the correct number of columns\n",
    "    old_entry_number = -1\n",
    "    column_number = 61\n",
    "    new_csv = \"new_\" + original_csv\n",
    "    with open(original_csv, \"r\") as file_object:\n",
    "        with open(new_csv, \"w\") as csv_object:\n",
    "            for row in file_object.readlines():\n",
    "                old_entry_number += 1\n",
    "                row = row[:-1].replace(' ', '').split(',')\n",
    "                if len(row) == column_number:\n",
    "                    csv.writer(csv_object).writerow(row)\n",
    "\n",
    "    # try to read dataset                \n",
    "    df = get_df(new_csv)\n",
    "    print(\"DEBUG MESSAGE: Try to load DataFrame: {}\".format(type(df)))\n",
    "\n",
    "    # drop None and 'n.a.' value\n",
    "    df.dropna()\n",
    "    df = df[(df != 'n.a.').all(axis=1)]\n",
    "\n",
    "    # cast every column to float\n",
    "    tmp_list = []\n",
    "    for col, t in zip(df.columns, df.dtypes):\n",
    "        if col != 'url' and t != float:\n",
    "            tmp_list.append(col)\n",
    "    df[tmp_list] = df[tmp_list].astype(float)\n",
    "\n",
    "    # investigation of the column domains\n",
    "    int_col = [\"timedelta\", \"n_tokens_title\", \"n_tokens_content\", \"num_hrefs\", \"num_self_hrefs\", \n",
    "               \"num_imgs\", \"num_videos\", \"num_keywords\", \"kw_min_min\", \"kw_max_min\", \"kw_min_max\", \n",
    "               \"kw_max_max\", \"self_reference_min_shares\", \"self_reference_max_shares\", \"shares\"]\n",
    "    pos_col = [\"timedelta\", \"n_tokens_title\", \"n_tokens_content\", \"num_hrefs\", \"num_self_hrefs\", \n",
    "               \"num_imgs\", \"num_videos\", \"average_token_length\", \"num_keywords\", \"self_reference_min_shares\",\n",
    "               \"self_reference_max_shares\", \"self_reference_avg_sharess\"]\n",
    "    pos_uni_col = [\"n_unique_tokens\", \"n_non_stop_words\", \"n_non_stop_unique_tokens\", \"LDA_00\", \"LDA_01\", \"LDA_02\",\n",
    "               \"LDA_03\", \"LDA_04\", \"global_subjectivity\", \"global_rate_positive_words\", \"global_rate_negative_words\",\n",
    "               \"rate_positive_words\", \"rate_negative_words\", \"avg_positive_polarity\", \"min_positive_polarity\",\n",
    "               \"max_positive_polarity\", \"title_subjectivity\", \"abs_title_subjectivity\", \"abs_title_sentiment_polarity\"]\n",
    "    abs_uni_col = [\"global_sentiment_polarity\", \"title_sentiment_polarity\"]\n",
    "    neg_uni_col = [\"avg_negative_polarity\", \"min_negative_polarity\", \"max_negative_polarity\"]\n",
    "    bin_col = [\"data_channel_is_lifestyle\", \"data_channel_is_entertainment\", \"data_channel_is_bus\", \n",
    "               \"data_channel_is_socmed\", \"data_channel_is_tech\", \"data_channel_is_world\", \"weekday_is_monday\",\n",
    "               \"weekday_is_tuesday\", \"weekday_is_wednesday\", \"weekday_is_thursday\", \"weekday_is_friday\",\n",
    "               \"weekday_is_saturday\", \"weekday_is_sunday\", \"is_weekend\"]\n",
    "\n",
    "    # drop samples that dont respect column domains\n",
    "    for col in df.columns[1:]:\n",
    "        if col in int_col:\n",
    "            tmp = df[col].apply(lambda x: int(x) != x)\n",
    "            df = df.drop(tmp[tmp == True].index, axis=0)\n",
    "        if col in pos_col:\n",
    "            tmp = df[col].apply(lambda x: x < 0)\n",
    "            df = df.drop(tmp[tmp == True].index, axis=0)\n",
    "        if col in pos_uni_col:\n",
    "            tmp = df[col].apply(lambda x: x < 0 or x > 1)\n",
    "            df = df.drop(tmp[tmp == True].index, axis=0)\n",
    "        if col in abs_uni_col:\n",
    "            tmp = df[col].apply(lambda x: x < -1 or x > 1)\n",
    "            df = df.drop(tmp[tmp == True].index, axis=0)\n",
    "        if col in neg_uni_col:\n",
    "            tmp = df[col].apply(lambda x: x < -1 or x > 0)\n",
    "            df = df.drop(tmp[tmp == True].index, axis=0)\n",
    "        if col in bin_col:\n",
    "            tmp = df[col].apply(lambda x: x != 0 and x != 1)\n",
    "            df = df.drop(tmp[tmp == True].index, axis=0)\n",
    "\n",
    "    # save clear dataset in the new csv file\n",
    "    df.to_csv(new_csv, sep=',', encoding='utf-8', index=False)\n",
    "    print(\"DEBUG MESSAGE: Cleaning and Loading Dataset done\")\n",
    "    return df, old_entry_number\n",
    "\n",
    "\n",
    "df, old_entry_number = clean_and_load_dataset(\"OnlineNewsPopularity.csv\")"
   ]
  },
  {
   "cell_type": "markdown",
   "metadata": {},
   "source": [
    "## Note 2.1\n",
    "The dataset has been cleaned in the script above of all the lines that had at least one of these characteristics:\n",
    "- number of values other than the number of columns; \n",
    "- None values; \n",
    "- n.a. values;\n",
    "- values outside the domain of the respective column.\n",
    "\n",
    "Due to the small number of incorrect samples found, these have been eliminated.\n",
    "\n",
    "I attempted to load the starting dataset first, but it was not possible due to some errors in the dataset. As a result, I rewrote the dataset on a new csv file, excluding rows with an incorrect number of columns. As a result, I was able to successfully load the dataset. I then examined the domain of each column and removed the rows that did not adhere to the dimensions of all columns. Finally, I saved the dataframe `df` in a new csv file called `new_csv`.\n"
   ]
  },
  {
   "cell_type": "markdown",
   "metadata": {},
   "source": [
    "## 2.2 Dataset Analysis (up to 1 of 11.2 points)\n",
    "In the following code cell (feel free to create new cells), remember to comment your code snippets:\n",
    "\n",
    "1) Print the total number of samples;\n",
    "\n",
    "2) Print a table with the first 15 samples;\n",
    "\n",
    "3) Plot the histogram distribution of \"shares\";\n",
    "\n",
    "4) A bar chart counting the attributes:  data_channel_is_lifestyle, data_channel_is_entertainment, data_channel_is_bus, data_channel_is_socmed, data_channel_is_tech, data_channel_is_world;\n",
    "\n"
   ]
  },
  {
   "cell_type": "code",
   "execution_count": 3,
   "metadata": {
    "scrolled": false
   },
   "outputs": [
    {
     "name": "stdout",
     "output_type": "stream",
     "text": [
      "Total number of samples at the beginning: 39648\n",
      "Total number of samples after cleaning dataset: 39513\n",
      "Total number of samples dropped: 135\n"
     ]
    }
   ],
   "source": [
    "#1) Print the total number of samples\n",
    "print('Total number of samples at the beginning: {}'.format(old_entry_number))\n",
    "print('Total number of samples after cleaning dataset: {}'.format(df.shape[0]))\n",
    "print('Total number of samples dropped: {}'.format(old_entry_number-df.shape[0]))"
   ]
  },
  {
   "cell_type": "code",
   "execution_count": 4,
   "metadata": {},
   "outputs": [
    {
     "data": {
      "text/html": [
       "<div>\n",
       "<style scoped>\n",
       "    .dataframe tbody tr th:only-of-type {\n",
       "        vertical-align: middle;\n",
       "    }\n",
       "\n",
       "    .dataframe tbody tr th {\n",
       "        vertical-align: top;\n",
       "    }\n",
       "\n",
       "    .dataframe thead th {\n",
       "        text-align: right;\n",
       "    }\n",
       "</style>\n",
       "<table border=\"1\" class=\"dataframe\">\n",
       "  <thead>\n",
       "    <tr style=\"text-align: right;\">\n",
       "      <th></th>\n",
       "      <th>url</th>\n",
       "      <th>timedelta</th>\n",
       "      <th>n_tokens_title</th>\n",
       "      <th>n_tokens_content</th>\n",
       "      <th>n_unique_tokens</th>\n",
       "      <th>n_non_stop_words</th>\n",
       "      <th>n_non_stop_unique_tokens</th>\n",
       "      <th>num_hrefs</th>\n",
       "      <th>num_self_hrefs</th>\n",
       "      <th>num_imgs</th>\n",
       "      <th>...</th>\n",
       "      <th>min_positive_polarity</th>\n",
       "      <th>max_positive_polarity</th>\n",
       "      <th>avg_negative_polarity</th>\n",
       "      <th>min_negative_polarity</th>\n",
       "      <th>max_negative_polarity</th>\n",
       "      <th>title_subjectivity</th>\n",
       "      <th>title_sentiment_polarity</th>\n",
       "      <th>abs_title_subjectivity</th>\n",
       "      <th>abs_title_sentiment_polarity</th>\n",
       "      <th>shares</th>\n",
       "    </tr>\n",
       "  </thead>\n",
       "  <tbody>\n",
       "    <tr>\n",
       "      <th>0</th>\n",
       "      <td>http://mashable.com/2013/01/07/amazon-instant-...</td>\n",
       "      <td>731.0</td>\n",
       "      <td>12.0</td>\n",
       "      <td>219.0</td>\n",
       "      <td>0.663594</td>\n",
       "      <td>1.0</td>\n",
       "      <td>0.815385</td>\n",
       "      <td>4.0</td>\n",
       "      <td>2.0</td>\n",
       "      <td>1.0</td>\n",
       "      <td>...</td>\n",
       "      <td>0.100000</td>\n",
       "      <td>0.7</td>\n",
       "      <td>-0.350000</td>\n",
       "      <td>-0.6000</td>\n",
       "      <td>-0.200000</td>\n",
       "      <td>0.500000</td>\n",
       "      <td>-0.187500</td>\n",
       "      <td>0.000000</td>\n",
       "      <td>0.187500</td>\n",
       "      <td>593.0</td>\n",
       "    </tr>\n",
       "    <tr>\n",
       "      <th>1</th>\n",
       "      <td>http://mashable.com/2013/01/07/ap-samsung-spon...</td>\n",
       "      <td>731.0</td>\n",
       "      <td>9.0</td>\n",
       "      <td>255.0</td>\n",
       "      <td>0.604743</td>\n",
       "      <td>1.0</td>\n",
       "      <td>0.791946</td>\n",
       "      <td>3.0</td>\n",
       "      <td>1.0</td>\n",
       "      <td>1.0</td>\n",
       "      <td>...</td>\n",
       "      <td>0.033333</td>\n",
       "      <td>0.7</td>\n",
       "      <td>-0.118750</td>\n",
       "      <td>-0.1250</td>\n",
       "      <td>-0.100000</td>\n",
       "      <td>0.000000</td>\n",
       "      <td>0.000000</td>\n",
       "      <td>0.500000</td>\n",
       "      <td>0.000000</td>\n",
       "      <td>711.0</td>\n",
       "    </tr>\n",
       "    <tr>\n",
       "      <th>2</th>\n",
       "      <td>http://mashable.com/2013/01/07/apple-40-billio...</td>\n",
       "      <td>731.0</td>\n",
       "      <td>9.0</td>\n",
       "      <td>211.0</td>\n",
       "      <td>0.575130</td>\n",
       "      <td>1.0</td>\n",
       "      <td>0.663866</td>\n",
       "      <td>3.0</td>\n",
       "      <td>1.0</td>\n",
       "      <td>1.0</td>\n",
       "      <td>...</td>\n",
       "      <td>0.100000</td>\n",
       "      <td>1.0</td>\n",
       "      <td>-0.466667</td>\n",
       "      <td>-0.8000</td>\n",
       "      <td>-0.133333</td>\n",
       "      <td>0.000000</td>\n",
       "      <td>0.000000</td>\n",
       "      <td>0.500000</td>\n",
       "      <td>0.000000</td>\n",
       "      <td>1500.0</td>\n",
       "    </tr>\n",
       "    <tr>\n",
       "      <th>3</th>\n",
       "      <td>http://mashable.com/2013/01/07/astronaut-notre...</td>\n",
       "      <td>731.0</td>\n",
       "      <td>9.0</td>\n",
       "      <td>531.0</td>\n",
       "      <td>0.503788</td>\n",
       "      <td>1.0</td>\n",
       "      <td>0.665635</td>\n",
       "      <td>9.0</td>\n",
       "      <td>0.0</td>\n",
       "      <td>1.0</td>\n",
       "      <td>...</td>\n",
       "      <td>0.136364</td>\n",
       "      <td>0.8</td>\n",
       "      <td>-0.369697</td>\n",
       "      <td>-0.6000</td>\n",
       "      <td>-0.166667</td>\n",
       "      <td>0.000000</td>\n",
       "      <td>0.000000</td>\n",
       "      <td>0.500000</td>\n",
       "      <td>0.000000</td>\n",
       "      <td>1200.0</td>\n",
       "    </tr>\n",
       "    <tr>\n",
       "      <th>4</th>\n",
       "      <td>http://mashable.com/2013/01/07/att-u-verse-apps/</td>\n",
       "      <td>731.0</td>\n",
       "      <td>13.0</td>\n",
       "      <td>1072.0</td>\n",
       "      <td>0.415646</td>\n",
       "      <td>1.0</td>\n",
       "      <td>0.540890</td>\n",
       "      <td>19.0</td>\n",
       "      <td>19.0</td>\n",
       "      <td>20.0</td>\n",
       "      <td>...</td>\n",
       "      <td>0.033333</td>\n",
       "      <td>1.0</td>\n",
       "      <td>-0.220192</td>\n",
       "      <td>-0.5000</td>\n",
       "      <td>-0.050000</td>\n",
       "      <td>0.454545</td>\n",
       "      <td>0.136364</td>\n",
       "      <td>0.045455</td>\n",
       "      <td>0.136364</td>\n",
       "      <td>505.0</td>\n",
       "    </tr>\n",
       "    <tr>\n",
       "      <th>5</th>\n",
       "      <td>http://mashable.com/2013/01/07/beewi-smart-toys/</td>\n",
       "      <td>731.0</td>\n",
       "      <td>10.0</td>\n",
       "      <td>370.0</td>\n",
       "      <td>0.559889</td>\n",
       "      <td>1.0</td>\n",
       "      <td>0.698198</td>\n",
       "      <td>2.0</td>\n",
       "      <td>2.0</td>\n",
       "      <td>0.0</td>\n",
       "      <td>...</td>\n",
       "      <td>0.136364</td>\n",
       "      <td>0.6</td>\n",
       "      <td>-0.195000</td>\n",
       "      <td>-0.4000</td>\n",
       "      <td>-0.100000</td>\n",
       "      <td>0.642857</td>\n",
       "      <td>0.214286</td>\n",
       "      <td>0.142857</td>\n",
       "      <td>0.214286</td>\n",
       "      <td>855.0</td>\n",
       "    </tr>\n",
       "    <tr>\n",
       "      <th>6</th>\n",
       "      <td>http://mashable.com/2013/01/07/bodymedia-armba...</td>\n",
       "      <td>731.0</td>\n",
       "      <td>8.0</td>\n",
       "      <td>960.0</td>\n",
       "      <td>0.418163</td>\n",
       "      <td>1.0</td>\n",
       "      <td>0.549834</td>\n",
       "      <td>21.0</td>\n",
       "      <td>20.0</td>\n",
       "      <td>20.0</td>\n",
       "      <td>...</td>\n",
       "      <td>0.100000</td>\n",
       "      <td>1.0</td>\n",
       "      <td>-0.224479</td>\n",
       "      <td>-0.5000</td>\n",
       "      <td>-0.050000</td>\n",
       "      <td>0.000000</td>\n",
       "      <td>0.000000</td>\n",
       "      <td>0.500000</td>\n",
       "      <td>0.000000</td>\n",
       "      <td>556.0</td>\n",
       "    </tr>\n",
       "    <tr>\n",
       "      <th>7</th>\n",
       "      <td>http://mashable.com/2013/01/07/canon-poweshot-n/</td>\n",
       "      <td>731.0</td>\n",
       "      <td>12.0</td>\n",
       "      <td>989.0</td>\n",
       "      <td>0.433574</td>\n",
       "      <td>1.0</td>\n",
       "      <td>0.572108</td>\n",
       "      <td>20.0</td>\n",
       "      <td>20.0</td>\n",
       "      <td>20.0</td>\n",
       "      <td>...</td>\n",
       "      <td>0.100000</td>\n",
       "      <td>1.0</td>\n",
       "      <td>-0.242778</td>\n",
       "      <td>-0.5000</td>\n",
       "      <td>-0.050000</td>\n",
       "      <td>1.000000</td>\n",
       "      <td>0.500000</td>\n",
       "      <td>0.500000</td>\n",
       "      <td>0.500000</td>\n",
       "      <td>891.0</td>\n",
       "    </tr>\n",
       "    <tr>\n",
       "      <th>8</th>\n",
       "      <td>http://mashable.com/2013/01/07/car-of-the-futu...</td>\n",
       "      <td>731.0</td>\n",
       "      <td>11.0</td>\n",
       "      <td>97.0</td>\n",
       "      <td>0.670103</td>\n",
       "      <td>1.0</td>\n",
       "      <td>0.836735</td>\n",
       "      <td>2.0</td>\n",
       "      <td>0.0</td>\n",
       "      <td>0.0</td>\n",
       "      <td>...</td>\n",
       "      <td>0.400000</td>\n",
       "      <td>0.8</td>\n",
       "      <td>-0.125000</td>\n",
       "      <td>-0.1250</td>\n",
       "      <td>-0.125000</td>\n",
       "      <td>0.125000</td>\n",
       "      <td>0.000000</td>\n",
       "      <td>0.375000</td>\n",
       "      <td>0.000000</td>\n",
       "      <td>3600.0</td>\n",
       "    </tr>\n",
       "    <tr>\n",
       "      <th>9</th>\n",
       "      <td>http://mashable.com/2013/01/07/chuck-hagel-web...</td>\n",
       "      <td>731.0</td>\n",
       "      <td>10.0</td>\n",
       "      <td>231.0</td>\n",
       "      <td>0.636364</td>\n",
       "      <td>1.0</td>\n",
       "      <td>0.797101</td>\n",
       "      <td>4.0</td>\n",
       "      <td>1.0</td>\n",
       "      <td>1.0</td>\n",
       "      <td>...</td>\n",
       "      <td>0.100000</td>\n",
       "      <td>0.5</td>\n",
       "      <td>-0.238095</td>\n",
       "      <td>-0.5000</td>\n",
       "      <td>-0.100000</td>\n",
       "      <td>0.000000</td>\n",
       "      <td>0.000000</td>\n",
       "      <td>0.500000</td>\n",
       "      <td>0.000000</td>\n",
       "      <td>710.0</td>\n",
       "    </tr>\n",
       "    <tr>\n",
       "      <th>10</th>\n",
       "      <td>http://mashable.com/2013/01/07/cosmic-events-d...</td>\n",
       "      <td>731.0</td>\n",
       "      <td>9.0</td>\n",
       "      <td>1248.0</td>\n",
       "      <td>0.490050</td>\n",
       "      <td>1.0</td>\n",
       "      <td>0.731638</td>\n",
       "      <td>11.0</td>\n",
       "      <td>0.0</td>\n",
       "      <td>1.0</td>\n",
       "      <td>...</td>\n",
       "      <td>0.100000</td>\n",
       "      <td>1.0</td>\n",
       "      <td>-0.415064</td>\n",
       "      <td>-1.0000</td>\n",
       "      <td>-0.100000</td>\n",
       "      <td>0.000000</td>\n",
       "      <td>0.000000</td>\n",
       "      <td>0.500000</td>\n",
       "      <td>0.000000</td>\n",
       "      <td>2200.0</td>\n",
       "    </tr>\n",
       "    <tr>\n",
       "      <th>11</th>\n",
       "      <td>http://mashable.com/2013/01/07/crayon-creatures/</td>\n",
       "      <td>731.0</td>\n",
       "      <td>10.0</td>\n",
       "      <td>187.0</td>\n",
       "      <td>0.666667</td>\n",
       "      <td>1.0</td>\n",
       "      <td>0.800000</td>\n",
       "      <td>7.0</td>\n",
       "      <td>0.0</td>\n",
       "      <td>1.0</td>\n",
       "      <td>...</td>\n",
       "      <td>0.200000</td>\n",
       "      <td>0.7</td>\n",
       "      <td>-0.262500</td>\n",
       "      <td>-0.4000</td>\n",
       "      <td>-0.125000</td>\n",
       "      <td>0.000000</td>\n",
       "      <td>0.000000</td>\n",
       "      <td>0.500000</td>\n",
       "      <td>0.000000</td>\n",
       "      <td>1900.0</td>\n",
       "    </tr>\n",
       "    <tr>\n",
       "      <th>12</th>\n",
       "      <td>http://mashable.com/2013/01/07/creature-cups/</td>\n",
       "      <td>731.0</td>\n",
       "      <td>9.0</td>\n",
       "      <td>274.0</td>\n",
       "      <td>0.609195</td>\n",
       "      <td>1.0</td>\n",
       "      <td>0.707602</td>\n",
       "      <td>18.0</td>\n",
       "      <td>2.0</td>\n",
       "      <td>11.0</td>\n",
       "      <td>...</td>\n",
       "      <td>0.200000</td>\n",
       "      <td>0.7</td>\n",
       "      <td>-0.310417</td>\n",
       "      <td>-0.6000</td>\n",
       "      <td>-0.050000</td>\n",
       "      <td>1.000000</td>\n",
       "      <td>-1.000000</td>\n",
       "      <td>0.500000</td>\n",
       "      <td>1.000000</td>\n",
       "      <td>823.0</td>\n",
       "    </tr>\n",
       "    <tr>\n",
       "      <th>13</th>\n",
       "      <td>http://mashable.com/2013/01/07/dad-jokes/</td>\n",
       "      <td>731.0</td>\n",
       "      <td>9.0</td>\n",
       "      <td>285.0</td>\n",
       "      <td>0.744186</td>\n",
       "      <td>1.0</td>\n",
       "      <td>0.841530</td>\n",
       "      <td>4.0</td>\n",
       "      <td>2.0</td>\n",
       "      <td>0.0</td>\n",
       "      <td>...</td>\n",
       "      <td>0.160000</td>\n",
       "      <td>1.0</td>\n",
       "      <td>-0.337889</td>\n",
       "      <td>-0.7000</td>\n",
       "      <td>-0.100000</td>\n",
       "      <td>1.000000</td>\n",
       "      <td>-1.000000</td>\n",
       "      <td>0.500000</td>\n",
       "      <td>1.000000</td>\n",
       "      <td>10000.0</td>\n",
       "    </tr>\n",
       "    <tr>\n",
       "      <th>14</th>\n",
       "      <td>http://mashable.com/2013/01/07/downton-abbey-t...</td>\n",
       "      <td>731.0</td>\n",
       "      <td>8.0</td>\n",
       "      <td>259.0</td>\n",
       "      <td>0.562753</td>\n",
       "      <td>1.0</td>\n",
       "      <td>0.644444</td>\n",
       "      <td>19.0</td>\n",
       "      <td>3.0</td>\n",
       "      <td>9.0</td>\n",
       "      <td>...</td>\n",
       "      <td>0.136364</td>\n",
       "      <td>0.5</td>\n",
       "      <td>-0.138690</td>\n",
       "      <td>-0.1875</td>\n",
       "      <td>-0.050000</td>\n",
       "      <td>0.750000</td>\n",
       "      <td>0.550000</td>\n",
       "      <td>0.250000</td>\n",
       "      <td>0.550000</td>\n",
       "      <td>761.0</td>\n",
       "    </tr>\n",
       "  </tbody>\n",
       "</table>\n",
       "<p>15 rows × 61 columns</p>\n",
       "</div>"
      ],
      "text/plain": [
       "                                                  url  timedelta  \\\n",
       "0   http://mashable.com/2013/01/07/amazon-instant-...      731.0   \n",
       "1   http://mashable.com/2013/01/07/ap-samsung-spon...      731.0   \n",
       "2   http://mashable.com/2013/01/07/apple-40-billio...      731.0   \n",
       "3   http://mashable.com/2013/01/07/astronaut-notre...      731.0   \n",
       "4    http://mashable.com/2013/01/07/att-u-verse-apps/      731.0   \n",
       "5    http://mashable.com/2013/01/07/beewi-smart-toys/      731.0   \n",
       "6   http://mashable.com/2013/01/07/bodymedia-armba...      731.0   \n",
       "7    http://mashable.com/2013/01/07/canon-poweshot-n/      731.0   \n",
       "8   http://mashable.com/2013/01/07/car-of-the-futu...      731.0   \n",
       "9   http://mashable.com/2013/01/07/chuck-hagel-web...      731.0   \n",
       "10  http://mashable.com/2013/01/07/cosmic-events-d...      731.0   \n",
       "11   http://mashable.com/2013/01/07/crayon-creatures/      731.0   \n",
       "12      http://mashable.com/2013/01/07/creature-cups/      731.0   \n",
       "13          http://mashable.com/2013/01/07/dad-jokes/      731.0   \n",
       "14  http://mashable.com/2013/01/07/downton-abbey-t...      731.0   \n",
       "\n",
       "    n_tokens_title  n_tokens_content  n_unique_tokens  n_non_stop_words  \\\n",
       "0             12.0             219.0         0.663594               1.0   \n",
       "1              9.0             255.0         0.604743               1.0   \n",
       "2              9.0             211.0         0.575130               1.0   \n",
       "3              9.0             531.0         0.503788               1.0   \n",
       "4             13.0            1072.0         0.415646               1.0   \n",
       "5             10.0             370.0         0.559889               1.0   \n",
       "6              8.0             960.0         0.418163               1.0   \n",
       "7             12.0             989.0         0.433574               1.0   \n",
       "8             11.0              97.0         0.670103               1.0   \n",
       "9             10.0             231.0         0.636364               1.0   \n",
       "10             9.0            1248.0         0.490050               1.0   \n",
       "11            10.0             187.0         0.666667               1.0   \n",
       "12             9.0             274.0         0.609195               1.0   \n",
       "13             9.0             285.0         0.744186               1.0   \n",
       "14             8.0             259.0         0.562753               1.0   \n",
       "\n",
       "    n_non_stop_unique_tokens  num_hrefs  num_self_hrefs  num_imgs  ...  \\\n",
       "0                   0.815385        4.0             2.0       1.0  ...   \n",
       "1                   0.791946        3.0             1.0       1.0  ...   \n",
       "2                   0.663866        3.0             1.0       1.0  ...   \n",
       "3                   0.665635        9.0             0.0       1.0  ...   \n",
       "4                   0.540890       19.0            19.0      20.0  ...   \n",
       "5                   0.698198        2.0             2.0       0.0  ...   \n",
       "6                   0.549834       21.0            20.0      20.0  ...   \n",
       "7                   0.572108       20.0            20.0      20.0  ...   \n",
       "8                   0.836735        2.0             0.0       0.0  ...   \n",
       "9                   0.797101        4.0             1.0       1.0  ...   \n",
       "10                  0.731638       11.0             0.0       1.0  ...   \n",
       "11                  0.800000        7.0             0.0       1.0  ...   \n",
       "12                  0.707602       18.0             2.0      11.0  ...   \n",
       "13                  0.841530        4.0             2.0       0.0  ...   \n",
       "14                  0.644444       19.0             3.0       9.0  ...   \n",
       "\n",
       "    min_positive_polarity  max_positive_polarity  avg_negative_polarity  \\\n",
       "0                0.100000                    0.7              -0.350000   \n",
       "1                0.033333                    0.7              -0.118750   \n",
       "2                0.100000                    1.0              -0.466667   \n",
       "3                0.136364                    0.8              -0.369697   \n",
       "4                0.033333                    1.0              -0.220192   \n",
       "5                0.136364                    0.6              -0.195000   \n",
       "6                0.100000                    1.0              -0.224479   \n",
       "7                0.100000                    1.0              -0.242778   \n",
       "8                0.400000                    0.8              -0.125000   \n",
       "9                0.100000                    0.5              -0.238095   \n",
       "10               0.100000                    1.0              -0.415064   \n",
       "11               0.200000                    0.7              -0.262500   \n",
       "12               0.200000                    0.7              -0.310417   \n",
       "13               0.160000                    1.0              -0.337889   \n",
       "14               0.136364                    0.5              -0.138690   \n",
       "\n",
       "    min_negative_polarity  max_negative_polarity  title_subjectivity  \\\n",
       "0                 -0.6000              -0.200000            0.500000   \n",
       "1                 -0.1250              -0.100000            0.000000   \n",
       "2                 -0.8000              -0.133333            0.000000   \n",
       "3                 -0.6000              -0.166667            0.000000   \n",
       "4                 -0.5000              -0.050000            0.454545   \n",
       "5                 -0.4000              -0.100000            0.642857   \n",
       "6                 -0.5000              -0.050000            0.000000   \n",
       "7                 -0.5000              -0.050000            1.000000   \n",
       "8                 -0.1250              -0.125000            0.125000   \n",
       "9                 -0.5000              -0.100000            0.000000   \n",
       "10                -1.0000              -0.100000            0.000000   \n",
       "11                -0.4000              -0.125000            0.000000   \n",
       "12                -0.6000              -0.050000            1.000000   \n",
       "13                -0.7000              -0.100000            1.000000   \n",
       "14                -0.1875              -0.050000            0.750000   \n",
       "\n",
       "    title_sentiment_polarity  abs_title_subjectivity  \\\n",
       "0                  -0.187500                0.000000   \n",
       "1                   0.000000                0.500000   \n",
       "2                   0.000000                0.500000   \n",
       "3                   0.000000                0.500000   \n",
       "4                   0.136364                0.045455   \n",
       "5                   0.214286                0.142857   \n",
       "6                   0.000000                0.500000   \n",
       "7                   0.500000                0.500000   \n",
       "8                   0.000000                0.375000   \n",
       "9                   0.000000                0.500000   \n",
       "10                  0.000000                0.500000   \n",
       "11                  0.000000                0.500000   \n",
       "12                 -1.000000                0.500000   \n",
       "13                 -1.000000                0.500000   \n",
       "14                  0.550000                0.250000   \n",
       "\n",
       "    abs_title_sentiment_polarity   shares  \n",
       "0                       0.187500    593.0  \n",
       "1                       0.000000    711.0  \n",
       "2                       0.000000   1500.0  \n",
       "3                       0.000000   1200.0  \n",
       "4                       0.136364    505.0  \n",
       "5                       0.214286    855.0  \n",
       "6                       0.000000    556.0  \n",
       "7                       0.500000    891.0  \n",
       "8                       0.000000   3600.0  \n",
       "9                       0.000000    710.0  \n",
       "10                      0.000000   2200.0  \n",
       "11                      0.000000   1900.0  \n",
       "12                      1.000000    823.0  \n",
       "13                      1.000000  10000.0  \n",
       "14                      0.550000    761.0  \n",
       "\n",
       "[15 rows x 61 columns]"
      ]
     },
     "execution_count": 4,
     "metadata": {},
     "output_type": "execute_result"
    }
   ],
   "source": [
    "#2) Print a table with the first 15 samples\n",
    "df.head(15)"
   ]
  },
  {
   "cell_type": "code",
   "execution_count": 5,
   "metadata": {},
   "outputs": [
    {
     "data": {
      "image/png": "[encoded data removed]",
      "text/plain": [
       "<Figure size 432x288 with 1 Axes>"
      ]
     },
     "metadata": {
      "needs_background": "light"
     },
     "output_type": "display_data"
    },
    {
     "data": {
      "image/png": "[encoded data removed]",
      "text/plain": [
       "<Figure size 432x288 with 1 Axes>"
      ]
     },
     "metadata": {
      "needs_background": "light"
     },
     "output_type": "display_data"
    },
    {
     "data": {
      "image/png": "[encoded data removed]",
      "text/plain": [
       "<Figure size 432x288 with 1 Axes>"
      ]
     },
     "metadata": {
      "needs_background": "light"
     },
     "output_type": "display_data"
    },
    {
     "data": {
      "image/png": "[encoded data removed]",
      "text/plain": [
       "<Figure size 432x288 with 1 Axes>"
      ]
     },
     "metadata": {
      "needs_background": "light"
     },
     "output_type": "display_data"
    },
    {
     "data": {
      "image/png": "[encoded data removed]",
      "text/plain": [
       "<Figure size 432x288 with 1 Axes>"
      ]
     },
     "metadata": {
      "needs_background": "light"
     },
     "output_type": "display_data"
    },
    {
     "data": {
      "image/png": "[encoded data removed]",
      "text/plain": [
       "<Figure size 432x288 with 1 Axes>"
      ]
     },
     "metadata": {
      "needs_background": "light"
     },
     "output_type": "display_data"
    }
   ],
   "source": [
    "#3) Plot the histogram distribution of \"shares\"\n",
    "from matplotlib import colors\n",
    "\n",
    "def get_hist(df, feature, min_value=None, max_value=None, b=100):\n",
    "    if min_value == None:\n",
    "        min_value = df[feature].min()\n",
    "    if max_value == None:\n",
    "        max_value = df[feature].max()\n",
    "    tmp = df[df[feature] > min_value]\n",
    "    tmp = tmp[tmp[feature] < max_value]\n",
    "    plt.hist(tmp.loc[:, feature], bins=b)\n",
    "    plt.title('histogram distribution of {} (min_value: {}, max_value: {}, bins: {})'.format(feature, min_value, max_value, b))\n",
    "    plt.show()\n",
    "    plt.close()\n",
    "    plt.hist2d(pd.Series(np.array([i for i in range(tmp.loc[:, feature].shape[0])])), tmp.loc[:, feature], bins=b, norm = colors.LogNorm())\n",
    "    plt.title('2D histogram distribution of {} (min_value: {}, max_value: {}, bins: {})'.format(feature, min_value, max_value, b))\n",
    "    plt.show()\n",
    "    plt.close()\n",
    "    return\n",
    "\n",
    "get_hist(df, \"shares\")\n",
    "get_hist(df, \"shares\", max_value=5000)\n",
    "get_hist(df, \"shares\", max_value=1000, b=200)"
   ]
  },
  {
   "cell_type": "code",
   "execution_count": 6,
   "metadata": {},
   "outputs": [
    {
     "data": {
      "image/png": "[encoded data removed]",
      "text/plain": [
       "<Figure size 432x288 with 1 Axes>"
      ]
     },
     "metadata": {
      "needs_background": "light"
     },
     "output_type": "display_data"
    }
   ],
   "source": [
    "#4) A bar chart counting the attributes: data_channel_is_lifestyle, data_channel_is_entertainment,\n",
    "#   data_channel_is_bus, data_channel_is_socmed, data_channel_is_tech, data_channel_is_world\n",
    "def request_2_2_4():\n",
    "    l = ['data_channel_is_lifestyle', 'data_channel_is_entertainment', 'data_channel_is_bus', \n",
    "         'data_channel_is_socmed', 'data_channel_is_tech', 'data_channel_is_world']\n",
    "    b = pd.DataFrame({'features':[], 'samples':[]})\n",
    "    for f in l:\n",
    "        b = b.append({'features': f, 'samples': df[df[f]==1].shape[0]}, ignore_index=True)\n",
    "    ax = b.plot.bar(x='features', y='samples', rot=90)\n",
    "    return\n",
    "\n",
    "request_2_2_4()"
   ]
  },
  {
   "cell_type": "markdown",
   "metadata": {},
   "source": [
    "## Note 2.2\n",
    "The four requests have been resolved in detail"
   ]
  },
  {
   "cell_type": "markdown",
   "metadata": {},
   "source": [
    "## 2.3 Feature importance analysis  (up to 1 of 11.2 points)\n",
    "\n",
    "Perform feature importance analysis"
   ]
  },
  {
   "cell_type": "code",
   "execution_count": 7,
   "metadata": {},
   "outputs": [],
   "source": [
    "# create x, y\n",
    "df = df.drop('url', axis=1, errors='ignore')\n",
    "x = df.drop('shares', axis=1)\n",
    "y = df.shares"
   ]
  },
  {
   "cell_type": "code",
   "execution_count": null,
   "metadata": {},
   "outputs": [],
   "source": [
    "from sklearn.ensemble import RandomForestRegressor\n",
    "\n",
    "# compute feature_importances\n",
    "rf = RandomForestRegressor(n_estimators=100, random_state=42, n_jobs=-1)\n",
    "rf.fit(x, y)\n",
    "rf.feature_importances_"
   ]
  },
  {
   "cell_type": "code",
   "execution_count": null,
   "metadata": {},
   "outputs": [],
   "source": [
    "# plot feature_importances\n",
    "sorted_idx = rf.feature_importances_.argsort()\n",
    "plt.barh(x.columns[sorted_idx], rf.feature_importances_[sorted_idx])"
   ]
  },
  {
   "cell_type": "code",
   "execution_count": null,
   "metadata": {
    "scrolled": true
   },
   "outputs": [],
   "source": [
    "# remove features with feature_importances < 0.01\n",
    "for importance, feature in zip(rf.feature_importances_, x.columns):\n",
    "    if importance < 0.02:\n",
    "        x = x.drop(feature, axis=1)\n",
    "\n",
    "# compute feature_importances again\n",
    "rf.fit(x, y)\n",
    "rf.feature_importances_"
   ]
  },
  {
   "cell_type": "code",
   "execution_count": null,
   "metadata": {
    "scrolled": true
   },
   "outputs": [],
   "source": [
    "# plot feature_importances again\n",
    "sorted_idx = rf.feature_importances_.argsort()\n",
    "plt.barh(x.columns[sorted_idx], rf.feature_importances_[sorted_idx])"
   ]
  },
  {
   "cell_type": "code",
   "execution_count": null,
   "metadata": {},
   "outputs": [],
   "source": [
    "del rf"
   ]
  },
  {
   "cell_type": "markdown",
   "metadata": {},
   "source": [
    "## Note 2.3\n",
    "On the entire dataset, a random forest was used to recognize the most relevant features. This enabled the classification of the importance of the characteristics. Due to a large number of features available, it was decided to consider only the most important. As a result, the features less important than 0.02 have been removed. At the end of this operation, there are 18 features left, accounting for roughly one-third of the total. The importance of the remaining features has been recalculated."
   ]
  },
  {
   "cell_type": "markdown",
   "metadata": {},
   "source": [
    "<hr>\n",
    "\n",
    "## 3. Model Selection (up to 8.2 of 11.2  points)\n",
    "In this part of the challenge you are requested to perform all the necessary steps required in order to design a full fledged classification task on the <b>shares</b> feature.\n",
    "\n",
    "You are requested to perform the following steps having in mind the following: \n",
    "\n",
    "1) the dataset must be properly splitted to perform crossvalidation \n",
    "\n",
    "2) when required, features must be properly encoded\n",
    "\n",
    "3) in order to simplify the problem the target feature can be dicretized <b>(number of classes must be >=5)</b> ;\n",
    "\n",
    "4) for model selection you are requested to consider: \n",
    "\n",
    "- Decision Trees\n",
    "\n",
    "- Support Vector Machines;\n",
    "\n",
    "- An ensamble methodology;\n",
    "\n",
    "- MLPNs.\n",
    "\n",
    "5) hyper-parameter tuning <b>must</b> be performed and discussed;\n",
    "\n",
    "6) apply standardizion and normalization when appropriate;\n",
    "\n",
    "7) remember to use an appropriate evaluation setting (cross-fold etc..)\n",
    "\n",
    "8) describe the measures adopted for the evaluation and discuss the results;\n",
    "\n",
    "9) provide a discussion of the model selection, where you describe the differences in terms of performance and explains the root causes;\n"
   ]
  },
  {
   "cell_type": "markdown",
   "metadata": {},
   "source": [
    "I create `new_df` which contains only the features chosen to train the models and 'shares'. \n",
    "The value `entry_number_step1` represents the number of samples considered at this point in the code."
   ]
  },
  {
   "cell_type": "code",
   "execution_count": null,
   "metadata": {},
   "outputs": [],
   "source": [
    "new_df = df.copy()\n",
    "columns = []\n",
    "for col in df.columns:\n",
    "    if col not in x.columns and col != 'shares':\n",
    "        new_df = new_df.drop(col, axis=1, errors='ignore')\n",
    "    else:\n",
    "        columns.append(col)\n",
    "entry_number_step1 = new_df.shape[0]"
   ]
  },
  {
   "cell_type": "markdown",
   "metadata": {},
   "source": [
    "i plot hist and hist2d for every feature to see the distribution of the data. Some features have distinct outliers."
   ]
  },
  {
   "cell_type": "code",
   "execution_count": null,
   "metadata": {},
   "outputs": [],
   "source": [
    "del df"
   ]
  },
  {
   "cell_type": "code",
   "execution_count": null,
   "metadata": {},
   "outputs": [],
   "source": [
    "for col in new_df.columns:\n",
    "    get_hist(new_df, col)"
   ]
  },
  {
   "cell_type": "markdown",
   "metadata": {},
   "source": [
    "with the following script, I eliminate the outliers. I also tried the other way (with the commented scripts) but in the end, I found it better to eliminate the outliers via zscore. It is reasonable to think that the data at our disposal may have some noise. It is better to remove it for better evaluation."
   ]
  },
  {
   "cell_type": "code",
   "execution_count": null,
   "metadata": {},
   "outputs": [],
   "source": [
    "'''\n",
    "new_df = new_df[new_df['n_tokens_content'] < 5500]\n",
    "new_df = new_df[new_df['average_token_length'] < 7]\n",
    "new_df = new_df[new_df['kw_avg_min'] < 20000]\n",
    "new_df = new_df[new_df['kw_max_avg'] < 15000]\n",
    "new_df = new_df[new_df['kw_avg_avg'] < 22500]\n",
    "new_df = new_df[new_df['self_reference_min_shares'] < 30000]\n",
    "new_df = new_df[new_df['self_reference_max_shares'] < 35000]\n",
    "new_df = new_df[new_df['self_reference_avg_sharess'] < 45000]\n",
    "new_df = new_df[new_df['shares'] < 200000]\n",
    "'''\n",
    "'''\n",
    "q_hi  = new_df['shares'].quantile(0.95)\n",
    "new_df = new_df[new_df['shares'] < q_hi]\n",
    "'''\n",
    "'''\n",
    "col_to_filter = ['n_tokens_content', 'average_token_length', 'kw_avg_min', 'kw_max_avg', 'kw_avg_avg',\n",
    "                'self_reference_min_shares', 'self_reference_max_shares', 'self_reference_avg_sharess', 'shares']\n",
    "for col in col_to_filter:\n",
    "    q_hi  = new_df[col].quantile(0.99)\n",
    "\n",
    "    new_df = new_df[new_df[col] < q_hi]\n",
    "'''\n",
    "from scipy.stats import zscore\n",
    "\n",
    "z_scores = zscore(new_df)\n",
    "abs_z_scores = np.abs(z_scores)\n",
    "filtered_entries = (abs_z_scores < 5).all(axis=1)\n",
    "new_df = new_df[filtered_entries]"
   ]
  },
  {
   "cell_type": "markdown",
   "metadata": {},
   "source": [
    "I rerun the plot of hist and hist2d for each feature noting some differences. Without the outliers, the distributions are better."
   ]
  },
  {
   "cell_type": "code",
   "execution_count": null,
   "metadata": {
    "scrolled": true
   },
   "outputs": [],
   "source": [
    "for col in new_df.columns:\n",
    "    get_hist(new_df, col)"
   ]
  },
  {
   "cell_type": "markdown",
   "metadata": {},
   "source": [
    "The number of samples eliminated is 1875, and the number of samples remaining is 37638. I believe it is correct to remove this number of samples, thereby removing data noise."
   ]
  },
  {
   "cell_type": "code",
   "execution_count": null,
   "metadata": {
    "scrolled": true
   },
   "outputs": [],
   "source": [
    "entry_number_step2 = new_df.shape[0]\n",
    "print('Samples before dropping outliers: {}'.format(entry_number_step1))\n",
    "print('Samples after dropping outliers: {}'.format(entry_number_step2))\n",
    "print('Samples removed:',format(entry_number_step1-entry_number_step2))"
   ]
  },
  {
   "cell_type": "markdown",
   "metadata": {},
   "source": [
    "Features (`x`) are scaled, and 'shares' (`y`) is discretized."
   ]
  },
  {
   "cell_type": "code",
   "execution_count": null,
   "metadata": {},
   "outputs": [],
   "source": [
    "from sklearn.preprocessing import MinMaxScaler\n",
    "from sklearn.preprocessing import KBinsDiscretizer\n",
    "\n",
    "x = new_df.drop('shares', axis=1)\n",
    "y = new_df.shares\n",
    "\n",
    "scaler = MinMaxScaler()\n",
    "x_scal = scaler.fit_transform(x)\n",
    "\n",
    "discretizer = KBinsDiscretizer(n_bins=5, encode='ordinal', strategy='kmeans')\n",
    "y_disc = discretizer.fit_transform(y.array.reshape(-1, 1))"
   ]
  },
  {
   "cell_type": "markdown",
   "metadata": {},
   "source": [
    "I then proceed to divide the dataset into `x_train`, `y_train`. `x_test`, `y_test`. I will only use the first two to train the models. and I will use the last two only and exclusively to test the performance of the models."
   ]
  },
  {
   "cell_type": "code",
   "execution_count": null,
   "metadata": {},
   "outputs": [],
   "source": [
    "from sklearn.model_selection import train_test_split\n",
    "\n",
    "x_train, x_test, y_train, y_test = train_test_split(x_scal, y_disc, shuffle=True, stratify=y_disc, test_size=1/3)"
   ]
  },
  {
   "cell_type": "markdown",
   "metadata": {},
   "source": [
    "I create the dictionary of models to train"
   ]
  },
  {
   "cell_type": "code",
   "execution_count": null,
   "metadata": {},
   "outputs": [],
   "source": [
    "from sklearn.tree import DecisionTreeClassifier\n",
    "from sklearn.svm import SVC\n",
    "from sklearn.ensemble import AdaBoostClassifier\n",
    "from sklearn.ensemble import RandomForestClassifier\n",
    "from sklearn.neural_network import MLPClassifier\n",
    "\n",
    "models = {\n",
    "    'DT': DecisionTreeClassifier(),\n",
    "    'SVM': SVC(),\n",
    "    'BOOST': AdaBoostClassifier(),\n",
    "    'RND_FOREST': RandomForestClassifier(),\n",
    "    'MLPN': MLPClassifier(max_iter=1000)\n",
    "}"
   ]
  },
  {
   "cell_type": "markdown",
   "metadata": {},
   "source": [
    "I create the three useful functions to train models, predict `y_test`, and evaluate models."
   ]
  },
  {
   "cell_type": "code",
   "execution_count": 31,
   "metadata": {},
   "outputs": [],
   "source": [
    "from sklearn.metrics import classification_report\n",
    "from sklearn.metrics import confusion_matrix\n",
    "from sklearn.model_selection import cross_val_score\n",
    "\n",
    "def fit_models(models, x_train, y_train):\n",
    "    for name in models.keys():\n",
    "        print('fitting {}'.format(name))\n",
    "        models[name].fit(x_train, y_train.ravel())\n",
    "        print('done')\n",
    "    return\n",
    "    \n",
    "def evaluate_models(models, x_test, y_test, x_scal, y_disc):\n",
    "    for name, model in models.items():\n",
    "        print()\n",
    "        print()\n",
    "        print()\n",
    "        print('name: {}'.format(name))\n",
    "        print()\n",
    "        print('params:')\n",
    "        print(model.get_params())\n",
    "        print()\n",
    "        y_pred = model.predict(x_test)\n",
    "        report = classification_report(y_test, y_pred, zero_division=0)\n",
    "        cm = confusion_matrix(y_test, y_pred)\n",
    "        cv_accuracy = cross_val_score(model, x_scal, y_disc.ravel(), n_jobs=-1, scoring='accuracy')\n",
    "        cv_f1_macro = cross_val_score(model, x_scal, y_disc.ravel(), n_jobs=-1, scoring='f1_macro')\n",
    "        print('report:')\n",
    "        print(report)\n",
    "        print()\n",
    "        print('confusion_matrix:')\n",
    "        print(cm)\n",
    "        print()\n",
    "        print('cross_val_score (accuracy):')\n",
    "        print(cv_accuracy)\n",
    "        print(\"%0.4f (+/- %0.4f)\" % (cv_accuracy.mean(), cv_accuracy.std() * 2))\n",
    "        print()\n",
    "        del cv_accuracy\n",
    "        print('cross_val_score (f1_macro):')\n",
    "        print(cv_f1_macro)\n",
    "        print(\"%0.4f (+/- %0.4f)\" % (cv_f1_macro.mean(), cv_f1_macro.std() * 2))\n",
    "        del cv_f1_macro\n",
    "        print()\n",
    "        print()\n",
    "        print()\n",
    "    return"
   ]
  },
  {
   "cell_type": "markdown",
   "metadata": {},
   "source": [
    "Before training the models, I print the dimensions of the train and test dataset. it is useful to stick to a fixed proportion to correctly perform cross-validation."
   ]
  },
  {
   "cell_type": "code",
   "execution_count": 32,
   "metadata": {},
   "outputs": [
    {
     "name": "stdout",
     "output_type": "stream",
     "text": [
      "train set dimention: 25092 (66.67%)\n",
      "test set dimention: 12546 (33.33%)\n"
     ]
    }
   ],
   "source": [
    "train_perc = round((x_train.shape[0]/(x_train.shape[0]+x_test.shape[0]))*100, 2)\n",
    "print('train set dimention: {} ({}%)'.format(x_train.shape[0], train_perc))\n",
    "print('test set dimention: {} ({}%)'.format(x_test.shape[0], 100-train_perc))"
   ]
  },
  {
   "cell_type": "code",
   "execution_count": 33,
   "metadata": {},
   "outputs": [
    {
     "name": "stdout",
     "output_type": "stream",
     "text": [
      "fitting DT\n",
      "done\n",
      "fitting SVM\n",
      "done\n",
      "fitting BOOST\n",
      "done\n",
      "fitting RND_FOREST\n",
      "done\n",
      "fitting MLPN\n",
      "done\n"
     ]
    }
   ],
   "source": [
    "fit_models(models, x_train, y_train)"
   ]
  },
  {
   "cell_type": "code",
   "execution_count": null,
   "metadata": {
    "scrolled": false
   },
   "outputs": [
    {
     "name": "stdout",
     "output_type": "stream",
     "text": [
      "\n",
      "\n",
      "\n",
      "name: DT\n",
      "\n",
      "params:\n",
      "{'ccp_alpha': 0.0, 'class_weight': None, 'criterion': 'gini', 'max_depth': None, 'max_features': None, 'max_leaf_nodes': None, 'min_impurity_decrease': 0.0, 'min_samples_leaf': 1, 'min_samples_split': 2, 'min_weight_fraction_leaf': 0.0, 'random_state': None, 'splitter': 'best'}\n",
      "\n",
      "report:\n",
      "              precision    recall  f1-score   support\n",
      "\n",
      "         0.0       0.82      0.79      0.80      9997\n",
      "         1.0       0.18      0.20      0.19      1799\n",
      "         2.0       0.06      0.07      0.06       520\n",
      "         3.0       0.02      0.02      0.02       165\n",
      "         4.0       0.04      0.05      0.04        65\n",
      "\n",
      "    accuracy                           0.66     12546\n",
      "   macro avg       0.22      0.23      0.22     12546\n",
      "weighted avg       0.68      0.66      0.67     12546\n",
      "\n",
      "\n",
      "confusion_matrix:\n",
      "[[7867 1490  451  132   57]\n",
      " [1274  365  107   35   18]\n",
      " [ 355  112   35   14    4]\n",
      " [ 113   28   17    4    3]\n",
      " [  42   15    3    2    3]]\n",
      "\n",
      "cross_val_score (accuracy):\n",
      "[0.12194474 0.58554729 0.21426674 0.57632523 0.55094991]\n",
      "0.4098 (+/- 0.3996)\n",
      "\n",
      "cross_val_score (f1_macro):\n",
      "[0.07145717 0.19994743 0.11611417 0.19641109 0.15871342]\n",
      "0.1485 (+/- 0.0981)\n",
      "\n",
      "\n",
      "\n",
      "\n",
      "\n",
      "\n",
      "name: SVM\n",
      "\n",
      "params:\n",
      "{'C': 1.0, 'break_ties': False, 'cache_size': 200, 'class_weight': None, 'coef0': 0.0, 'decision_function_shape': 'ovr', 'degree': 3, 'gamma': 'scale', 'kernel': 'rbf', 'max_iter': -1, 'probability': False, 'random_state': None, 'shrinking': True, 'tol': 0.001, 'verbose': False}\n",
      "\n"
     ]
    }
   ],
   "source": [
    "evaluate_models(models, x_test, y_test, x_scal, y_disc)"
   ]
  },
  {
   "cell_type": "markdown",
   "metadata": {},
   "source": [
    "summary evaluation:\n",
    "<table>\n",
    "    <tr>\n",
    "        <th> name </th><th>accuracy</th><th>f1_macro</th><th>cv score</th>\n",
    "    </tr>\n",
    "    <tr>\n",
    "        <td>DT</td><td>0.67</td><td>0.22</td><td>0.4065 (+/- 0.3979)</td>\n",
    "    </tr>\n",
    "    <tr>\n",
    "        <td>SVM</td><td>0.80</td><td>0.18</td><td>0.7968 (+/- 0.0001)</td>\n",
    "    </tr>\n",
    "    <tr>\n",
    "        <td>BOOST</td><td>0.80</td><td>0.18</td><td>0.7957 (+/- 0.0037)</td>\n",
    "    </tr>\n",
    "    <tr>\n",
    "        <td>RND_FOREST</td><td>0.80</td><td>0.18</td><td>0.6629 (+/- 0.5175)</td>\n",
    "    </tr>\n",
    "    <tr>\n",
    "        <td>MLPN</td><td>0.79</td><td>0.19</td><td>0.7916 (+/- 0.0147)</td>\n",
    "    </tr>\n",
    "</table>\n",
    "\n",
    "It was discovered that the unbalanced dataset resulted in excellent accuracy but a very poor f1_macro. This is due to the imbalanced dataset. We want to correctly predict all classes, we cannot predict exactly class 0 only. for this we want to maximize f1_macro while maintaining high accuracy."
   ]
  },
  {
   "cell_type": "markdown",
   "metadata": {},
   "source": [
    "We note that the models have been trained with a large amount of class 0 samples."
   ]
  },
  {
   "cell_type": "code",
   "execution_count": null,
   "metadata": {
    "scrolled": true
   },
   "outputs": [],
   "source": [
    "plt.hist(y_train, bins=5)"
   ]
  },
  {
   "cell_type": "markdown",
   "metadata": {},
   "source": [
    "the intent is to balance the classes. target:\n",
    "\n",
    "class 0: 2/7 samples\n",
    "\n",
    "class 1: 2/7 samples\n",
    "\n",
    "class 2: 1/7 samples\n",
    "\n",
    "class 3: 1/7 samples\n",
    "\n",
    "class 4: 1/7 samples"
   ]
  },
  {
   "cell_type": "code",
   "execution_count": null,
   "metadata": {},
   "outputs": [],
   "source": [
    "c0 = min(np.count_nonzero(y_train == 0), int((2/7)*y_train.shape[0]))\n",
    "c1 = min(np.count_nonzero(y_train == 1), int((2/7)*y_train.shape[0]))\n",
    "c2 = min(np.count_nonzero(y_train == 2), int((1/7)*y_train.shape[0]))\n",
    "c3 = min(np.count_nonzero(y_train == 3), int((1/7)*y_train.shape[0]))\n",
    "c4 = min(np.count_nonzero(y_train == 4), int((1/7)*y_train.shape[0]))"
   ]
  },
  {
   "cell_type": "markdown",
   "metadata": {},
   "source": [
    "We use RandomUnderSampler to undersampling classes that contain more samples than desired."
   ]
  },
  {
   "cell_type": "code",
   "execution_count": null,
   "metadata": {},
   "outputs": [],
   "source": [
    "from imblearn.under_sampling import RandomUnderSampler\n",
    "\n",
    "rus = RandomUnderSampler(sampling_strategy={0:c0, 1:c1, 2:c2, 3:c3, 4:c4})\n",
    "x_train_under, y_train_under = rus.fit_resample(x_train, y_train)"
   ]
  },
  {
   "cell_type": "code",
   "execution_count": null,
   "metadata": {},
   "outputs": [],
   "source": [
    "del rus"
   ]
  },
  {
   "cell_type": "code",
   "execution_count": null,
   "metadata": {},
   "outputs": [],
   "source": [
    "x_train_under_dim = x_train_under.shape[0]\n",
    "print('Samples before undersampling: {}'.format(x_train.shape[0]))\n",
    "print('Samples after undersampling: {}'.format(x_train_under_dim))\n",
    "print('Samples removed: {}'.format(x_train.shape[0]-x_train_under_dim))"
   ]
  },
  {
   "cell_type": "code",
   "execution_count": null,
   "metadata": {},
   "outputs": [],
   "source": [
    "plt.hist(y_train_under, bins=5)"
   ]
  },
  {
   "cell_type": "markdown",
   "metadata": {},
   "source": [
    "We use SMOTE to oversampling classes that contain less samples than desired."
   ]
  },
  {
   "cell_type": "code",
   "execution_count": null,
   "metadata": {},
   "outputs": [],
   "source": [
    "c0 = max(np.count_nonzero(y_train_under == 0), int((2/7)*y_train.shape[0]))\n",
    "c1 = max(np.count_nonzero(y_train_under == 1), int((2/7)*y_train.shape[0]))\n",
    "c2 = max(np.count_nonzero(y_train_under == 2), int((1/7)*y_train.shape[0]))\n",
    "c3 = max(np.count_nonzero(y_train_under == 3), int((1/7)*y_train.shape[0]))\n",
    "c4 = max(np.count_nonzero(y_train_under == 4), int((1/7)*y_train.shape[0]))"
   ]
  },
  {
   "cell_type": "code",
   "execution_count": null,
   "metadata": {},
   "outputs": [],
   "source": [
    "from imblearn.over_sampling import SMOTE\n",
    "\n",
    "sm = SMOTE(k_neighbors=3, n_jobs=-1, sampling_strategy={0:c0,1:c1,2:c2,3:c3,4:c4})\n",
    "x_train_over, y_train_over = sm.fit_resample(x_train_under, y_train_under)"
   ]
  },
  {
   "cell_type": "code",
   "execution_count": null,
   "metadata": {},
   "outputs": [],
   "source": [
    "del sm"
   ]
  },
  {
   "cell_type": "code",
   "execution_count": null,
   "metadata": {},
   "outputs": [],
   "source": [
    "entry_number_step4 = x_train_over.shape[0]\n",
    "print('Samples before oversampling: {}'.format(x_train_under_dim))\n",
    "print('Samples after oversampling: {}'.format(entry_number_step4))\n",
    "print('Samples added: {}'.format(entry_number_step4-x_train_under_dim))"
   ]
  },
  {
   "cell_type": "markdown",
   "metadata": {},
   "source": [
    "Now the samples are balanced as originally planned"
   ]
  },
  {
   "cell_type": "code",
   "execution_count": null,
   "metadata": {},
   "outputs": [],
   "source": [
    "plt.hist(y_train_over, bins=5)"
   ]
  },
  {
   "cell_type": "markdown",
   "metadata": {},
   "source": [
    "I plot the distribution of the features following the new samples"
   ]
  },
  {
   "cell_type": "code",
   "execution_count": null,
   "metadata": {},
   "outputs": [],
   "source": [
    "for i, col in enumerate(columns):\n",
    "    if col != 'shares':\n",
    "        to_plot = x_train_over[:,i]\n",
    "    else:\n",
    "        to_plot = y_train_over\n",
    "    min_value = to_plot.min()\n",
    "    max_value = to_plot.max()\n",
    "    b = 100\n",
    "    plt.hist(to_plot, bins=b)\n",
    "    plt.title('histogram distribution of {} (min_value: {}, max_value: {}, bins: {})'.format(col, min_value, max_value, b))\n",
    "    plt.show()\n",
    "    plt.close()\n",
    "    plt.hist2d(pd.Series(np.array([i for i in range(to_plot.shape[0])])), to_plot, bins=b, norm = colors.LogNorm())\n",
    "    plt.title('2D histogram distribution of {} (min_value: {}, max_value: {}, bins: {})'.format(col, min_value, max_value, b))\n",
    "    plt.show()\n",
    "    plt.close()"
   ]
  },
  {
   "cell_type": "code",
   "execution_count": null,
   "metadata": {},
   "outputs": [],
   "source": [
    "train_perc = round((x_train_over.shape[0]/(x_train_over.shape[0]+x_test.shape[0]))*100, 2)\n",
    "print('train set dimention: {} ({}%)'.format(x_train_over.shape[0], train_perc))\n",
    "print('test set dimention: {} ({}%)'.format(x_test.shape[0], 100-train_perc))"
   ]
  },
  {
   "cell_type": "markdown",
   "metadata": {},
   "source": [
    "I fit and evaluate models with 2/3 of training set and 1/3 of test set"
   ]
  },
  {
   "cell_type": "code",
   "execution_count": null,
   "metadata": {
    "scrolled": false
   },
   "outputs": [],
   "source": [
    "fit_models(models, x_train_over, y_train_over)"
   ]
  },
  {
   "cell_type": "code",
   "execution_count": null,
   "metadata": {
    "scrolled": false
   },
   "outputs": [],
   "source": [
    "evaluate_models(models, x_test, y_test, x_scal, y_disc)"
   ]
  },
  {
   "cell_type": "markdown",
   "metadata": {},
   "source": [
    "summary evaluation:\n",
    "<table>\n",
    "    <tr>\n",
    "        <th> name </th><th>accuracy</th><th>f1_macro</th><th>cv score</th>\n",
    "    </tr>\n",
    "    <tr>\n",
    "        <td>DT</td><td>0.67</td><td>0.22</td><td>0.4065 (+/- 0.3979)</td>\n",
    "    </tr>\n",
    "    <tr>\n",
    "        <td>SVM</td><td>0.80</td><td>0.18</td><td>0.7968 (+/- 0.0001)</td>\n",
    "    </tr>\n",
    "    <tr>\n",
    "        <td>BOOST</td><td>0.80</td><td>0.18</td><td>0.7957 (+/- 0.0037)</td>\n",
    "    </tr>\n",
    "    <tr>\n",
    "        <td>RND_FOREST</td><td>0.80</td><td>0.18</td><td>0.6629 (+/- 0.5175)</td>\n",
    "    </tr>\n",
    "    <tr>\n",
    "        <td>MLPN</td><td>0.79</td><td>0.19</td><td>0.7916 (+/- 0.0147)</td>\n",
    "    </tr>\n",
    "</table>\n",
    "\n",
    "With under/over sampling a better f1_macro is noted, while maintaining good accuracy. THe best model is RandomForestClassifier"
   ]
  },
  {
   "cell_type": "markdown",
   "metadata": {},
   "source": [
    "i define function for tuning RandomForestClassifier. I want tuning this model by f1_macro"
   ]
  },
  {
   "cell_type": "code",
   "execution_count": null,
   "metadata": {},
   "outputs": [],
   "source": [
    "from sklearn.model_selection import GridSearchCV\n",
    "\n",
    "def tune_model(model, param_grid, scoring, x_train, y_train):\n",
    "    print('tuning...')\n",
    "    clf = GridSearchCV(estimator=model, param_grid=param_grid, scoring=scoring, verbose=1)\n",
    "    clf.fit(x_train, y_train.ravel())\n",
    "    print('done')\n",
    "    print()\n",
    "    print(\"Best: %f using %s\" % (clf.best_score_, clf.best_params_))\n",
    "    best_params = clf.best_params_.copy()\n",
    "    del clf\n",
    "    return best_params"
   ]
  },
  {
   "cell_type": "code",
   "execution_count": null,
   "metadata": {},
   "outputs": [],
   "source": [
    "c0 = np.count_nonzero(y_train_over == 0)//2\n",
    "c1 = np.count_nonzero(y_train_over == 1)//2\n",
    "c2 = np.count_nonzero(y_train_over == 2)//2\n",
    "c3 = np.count_nonzero(y_train_over == 3)//2\n",
    "c4 = np.count_nonzero(y_train_over == 4)//2"
   ]
  },
  {
   "cell_type": "code",
   "execution_count": null,
   "metadata": {},
   "outputs": [],
   "source": [
    "rus = RandomUnderSampler(sampling_strategy={0:c0, 1:c1, 2:c2, 3:c3, 4:c4})\n",
    "x_train_tuning, y_train_tuning = rus.fit_resample(x_train_over, y_train_over)"
   ]
  },
  {
   "cell_type": "code",
   "execution_count": null,
   "metadata": {},
   "outputs": [],
   "source": [
    "del rus"
   ]
  },
  {
   "cell_type": "code",
   "execution_count": null,
   "metadata": {},
   "outputs": [],
   "source": [
    "plt.hist(y_train_tuning, bins=5)"
   ]
  },
  {
   "cell_type": "code",
   "execution_count": null,
   "metadata": {},
   "outputs": [],
   "source": [
    "del models"
   ]
  },
  {
   "cell_type": "code",
   "execution_count": null,
   "metadata": {},
   "outputs": [],
   "source": [
    "param_grid = {\n",
    "    'n_estimators': [300, 600, 900, 1200],\n",
    "    'max_features': ['auto', 'sqrt'],\n",
    "    'max_depth': [10, 20, 40, 80],\n",
    "    'min_samples_split': [2, 5, 10],\n",
    "    'min_samples_leaf': [1, 2, 4],\n",
    "    'n_jobs': [-1]\n",
    "}"
   ]
  },
  {
   "cell_type": "code",
   "execution_count": 42,
   "metadata": {},
   "outputs": [
    {
     "name": "stdout",
     "output_type": "stream",
     "text": [
      "tuning...\n",
      "Fitting 5 folds for each of 288 candidates, totalling 1440 fits\n",
      "done\n",
      "\n",
      "Best: 0.760033 using {'max_depth': 80, 'max_features': 'auto', 'min_samples_leaf': 1, 'min_samples_split': 2, 'n_estimators': 1200, 'n_jobs': -1}\n"
     ]
    }
   ],
   "source": [
    "best_params = tune_model(RandomForestClassifier(), param_grid, 'f1_macro', x_train_tuning, y_train_tuning)\n",
    "best_params['n_jobs'] = 1"
   ]
  },
  {
   "cell_type": "code",
   "execution_count": 43,
   "metadata": {},
   "outputs": [],
   "source": [
    "tuned_models = {\n",
    "    'RND_FOREST': RandomForestClassifier(**best_params)\n",
    "}"
   ]
  },
  {
   "cell_type": "code",
   "execution_count": 44,
   "metadata": {},
   "outputs": [
    {
     "name": "stdout",
     "output_type": "stream",
     "text": [
      "fitting RND_FOREST\n",
      "done\n"
     ]
    }
   ],
   "source": [
    "fit_models(tuned_models, x_train_over, y_train_over)"
   ]
  },
  {
   "cell_type": "code",
   "execution_count": 53,
   "metadata": {},
   "outputs": [
    {
     "name": "stdout",
     "output_type": "stream",
     "text": [
      "\n",
      "\n",
      "\n",
      "name: RND_FOREST\n",
      "\n",
      "params:\n",
      "{'bootstrap': True, 'ccp_alpha': 0.0, 'class_weight': None, 'criterion': 'gini', 'max_depth': 80, 'max_features': 'auto', 'max_leaf_nodes': None, 'max_samples': None, 'min_impurity_decrease': 0.0, 'min_samples_leaf': 1, 'min_samples_split': 2, 'min_weight_fraction_leaf': 0.0, 'n_estimators': 1200, 'n_jobs': 1, 'oob_score': False, 'random_state': None, 'verbose': 0, 'warm_start': False}\n",
      "\n"
     ]
    },
    {
     "ename": "KeyboardInterrupt",
     "evalue": "",
     "output_type": "error",
     "traceback": [
      "\u001b[0;31m---------------------------------------------------------------------------\u001b[0m",
      "\u001b[0;31mKeyboardInterrupt\u001b[0m                         Traceback (most recent call last)",
      "Input \u001b[0;32mIn [53]\u001b[0m, in \u001b[0;36m<module>\u001b[0;34m\u001b[0m\n\u001b[0;32m----> 1\u001b[0m \u001b[43mevaluate_models\u001b[49m\u001b[43m(\u001b[49m\u001b[43mtuned_models\u001b[49m\u001b[43m,\u001b[49m\u001b[43m \u001b[49m\u001b[43mx_test\u001b[49m\u001b[43m,\u001b[49m\u001b[43m \u001b[49m\u001b[43my_test\u001b[49m\u001b[43m,\u001b[49m\u001b[43m \u001b[49m\u001b[43mx_scal\u001b[49m\u001b[43m,\u001b[49m\u001b[43m \u001b[49m\u001b[43my_disc\u001b[49m\u001b[43m)\u001b[49m\n",
      "Input \u001b[0;32mIn [52]\u001b[0m, in \u001b[0;36mevaluate_models\u001b[0;34m(models, x_test, y_test, x_scal, y_disc)\u001b[0m\n\u001b[1;32m     23\u001b[0m report \u001b[38;5;241m=\u001b[39m classification_report(y_test, y_pred, zero_division\u001b[38;5;241m=\u001b[39m\u001b[38;5;241m0\u001b[39m)\n\u001b[1;32m     24\u001b[0m cm \u001b[38;5;241m=\u001b[39m confusion_matrix(y_test, y_pred)\n\u001b[0;32m---> 25\u001b[0m cv_accuracy \u001b[38;5;241m=\u001b[39m \u001b[43mcross_val_score\u001b[49m\u001b[43m(\u001b[49m\u001b[43mmodel\u001b[49m\u001b[43m,\u001b[49m\u001b[43m \u001b[49m\u001b[43mx_scal\u001b[49m\u001b[43m,\u001b[49m\u001b[43m \u001b[49m\u001b[43my_disc\u001b[49m\u001b[38;5;241;43m.\u001b[39;49m\u001b[43mravel\u001b[49m\u001b[43m(\u001b[49m\u001b[43m)\u001b[49m\u001b[43m,\u001b[49m\u001b[43m \u001b[49m\u001b[43mn_jobs\u001b[49m\u001b[38;5;241;43m=\u001b[39;49m\u001b[38;5;241;43m-\u001b[39;49m\u001b[38;5;241;43m1\u001b[39;49m\u001b[43m,\u001b[49m\u001b[43m \u001b[49m\u001b[43mscoring\u001b[49m\u001b[38;5;241;43m=\u001b[39;49m\u001b[38;5;124;43m'\u001b[39;49m\u001b[38;5;124;43maccuracy\u001b[39;49m\u001b[38;5;124;43m'\u001b[39;49m\u001b[43m)\u001b[49m\n\u001b[1;32m     26\u001b[0m cv_f1_macro \u001b[38;5;241m=\u001b[39m cross_val_score(model, x_scal, y_disc\u001b[38;5;241m.\u001b[39mravel(), n_jobs\u001b[38;5;241m=\u001b[39m\u001b[38;5;241m-\u001b[39m\u001b[38;5;241m1\u001b[39m, scoring\u001b[38;5;241m=\u001b[39m\u001b[38;5;124m'\u001b[39m\u001b[38;5;124mf1_macro\u001b[39m\u001b[38;5;124m'\u001b[39m)\n\u001b[1;32m     27\u001b[0m \u001b[38;5;28mprint\u001b[39m(\u001b[38;5;124m'\u001b[39m\u001b[38;5;124mreport:\u001b[39m\u001b[38;5;124m'\u001b[39m)\n",
      "File \u001b[0;32m~/.local/lib/python3.9/site-packages/sklearn/model_selection/_validation.py:509\u001b[0m, in \u001b[0;36mcross_val_score\u001b[0;34m(estimator, X, y, groups, scoring, cv, n_jobs, verbose, fit_params, pre_dispatch, error_score)\u001b[0m\n\u001b[1;32m    506\u001b[0m \u001b[38;5;66;03m# To ensure multimetric format is not supported\u001b[39;00m\n\u001b[1;32m    507\u001b[0m scorer \u001b[38;5;241m=\u001b[39m check_scoring(estimator, scoring\u001b[38;5;241m=\u001b[39mscoring)\n\u001b[0;32m--> 509\u001b[0m cv_results \u001b[38;5;241m=\u001b[39m \u001b[43mcross_validate\u001b[49m\u001b[43m(\u001b[49m\n\u001b[1;32m    510\u001b[0m \u001b[43m    \u001b[49m\u001b[43mestimator\u001b[49m\u001b[38;5;241;43m=\u001b[39;49m\u001b[43mestimator\u001b[49m\u001b[43m,\u001b[49m\n\u001b[1;32m    511\u001b[0m \u001b[43m    \u001b[49m\u001b[43mX\u001b[49m\u001b[38;5;241;43m=\u001b[39;49m\u001b[43mX\u001b[49m\u001b[43m,\u001b[49m\n\u001b[1;32m    512\u001b[0m \u001b[43m    \u001b[49m\u001b[43my\u001b[49m\u001b[38;5;241;43m=\u001b[39;49m\u001b[43my\u001b[49m\u001b[43m,\u001b[49m\n\u001b[1;32m    513\u001b[0m \u001b[43m    \u001b[49m\u001b[43mgroups\u001b[49m\u001b[38;5;241;43m=\u001b[39;49m\u001b[43mgroups\u001b[49m\u001b[43m,\u001b[49m\n\u001b[1;32m    514\u001b[0m \u001b[43m    \u001b[49m\u001b[43mscoring\u001b[49m\u001b[38;5;241;43m=\u001b[39;49m\u001b[43m{\u001b[49m\u001b[38;5;124;43m\"\u001b[39;49m\u001b[38;5;124;43mscore\u001b[39;49m\u001b[38;5;124;43m\"\u001b[39;49m\u001b[43m:\u001b[49m\u001b[43m \u001b[49m\u001b[43mscorer\u001b[49m\u001b[43m}\u001b[49m\u001b[43m,\u001b[49m\n\u001b[1;32m    515\u001b[0m \u001b[43m    \u001b[49m\u001b[43mcv\u001b[49m\u001b[38;5;241;43m=\u001b[39;49m\u001b[43mcv\u001b[49m\u001b[43m,\u001b[49m\n\u001b[1;32m    516\u001b[0m \u001b[43m    \u001b[49m\u001b[43mn_jobs\u001b[49m\u001b[38;5;241;43m=\u001b[39;49m\u001b[43mn_jobs\u001b[49m\u001b[43m,\u001b[49m\n\u001b[1;32m    517\u001b[0m \u001b[43m    \u001b[49m\u001b[43mverbose\u001b[49m\u001b[38;5;241;43m=\u001b[39;49m\u001b[43mverbose\u001b[49m\u001b[43m,\u001b[49m\n\u001b[1;32m    518\u001b[0m \u001b[43m    \u001b[49m\u001b[43mfit_params\u001b[49m\u001b[38;5;241;43m=\u001b[39;49m\u001b[43mfit_params\u001b[49m\u001b[43m,\u001b[49m\n\u001b[1;32m    519\u001b[0m \u001b[43m    \u001b[49m\u001b[43mpre_dispatch\u001b[49m\u001b[38;5;241;43m=\u001b[39;49m\u001b[43mpre_dispatch\u001b[49m\u001b[43m,\u001b[49m\n\u001b[1;32m    520\u001b[0m \u001b[43m    \u001b[49m\u001b[43merror_score\u001b[49m\u001b[38;5;241;43m=\u001b[39;49m\u001b[43merror_score\u001b[49m\u001b[43m,\u001b[49m\n\u001b[1;32m    521\u001b[0m \u001b[43m\u001b[49m\u001b[43m)\u001b[49m\n\u001b[1;32m    522\u001b[0m \u001b[38;5;28;01mreturn\u001b[39;00m cv_results[\u001b[38;5;124m\"\u001b[39m\u001b[38;5;124mtest_score\u001b[39m\u001b[38;5;124m\"\u001b[39m]\n",
      "File \u001b[0;32m~/.local/lib/python3.9/site-packages/sklearn/model_selection/_validation.py:267\u001b[0m, in \u001b[0;36mcross_validate\u001b[0;34m(estimator, X, y, groups, scoring, cv, n_jobs, verbose, fit_params, pre_dispatch, return_train_score, return_estimator, error_score)\u001b[0m\n\u001b[1;32m    264\u001b[0m \u001b[38;5;66;03m# We clone the estimator to make sure that all the folds are\u001b[39;00m\n\u001b[1;32m    265\u001b[0m \u001b[38;5;66;03m# independent, and that it is pickle-able.\u001b[39;00m\n\u001b[1;32m    266\u001b[0m parallel \u001b[38;5;241m=\u001b[39m Parallel(n_jobs\u001b[38;5;241m=\u001b[39mn_jobs, verbose\u001b[38;5;241m=\u001b[39mverbose, pre_dispatch\u001b[38;5;241m=\u001b[39mpre_dispatch)\n\u001b[0;32m--> 267\u001b[0m results \u001b[38;5;241m=\u001b[39m \u001b[43mparallel\u001b[49m\u001b[43m(\u001b[49m\n\u001b[1;32m    268\u001b[0m \u001b[43m    \u001b[49m\u001b[43mdelayed\u001b[49m\u001b[43m(\u001b[49m\u001b[43m_fit_and_score\u001b[49m\u001b[43m)\u001b[49m\u001b[43m(\u001b[49m\n\u001b[1;32m    269\u001b[0m \u001b[43m        \u001b[49m\u001b[43mclone\u001b[49m\u001b[43m(\u001b[49m\u001b[43mestimator\u001b[49m\u001b[43m)\u001b[49m\u001b[43m,\u001b[49m\n\u001b[1;32m    270\u001b[0m \u001b[43m        \u001b[49m\u001b[43mX\u001b[49m\u001b[43m,\u001b[49m\n\u001b[1;32m    271\u001b[0m \u001b[43m        \u001b[49m\u001b[43my\u001b[49m\u001b[43m,\u001b[49m\n\u001b[1;32m    272\u001b[0m \u001b[43m        \u001b[49m\u001b[43mscorers\u001b[49m\u001b[43m,\u001b[49m\n\u001b[1;32m    273\u001b[0m \u001b[43m        \u001b[49m\u001b[43mtrain\u001b[49m\u001b[43m,\u001b[49m\n\u001b[1;32m    274\u001b[0m \u001b[43m        \u001b[49m\u001b[43mtest\u001b[49m\u001b[43m,\u001b[49m\n\u001b[1;32m    275\u001b[0m \u001b[43m        \u001b[49m\u001b[43mverbose\u001b[49m\u001b[43m,\u001b[49m\n\u001b[1;32m    276\u001b[0m \u001b[43m        \u001b[49m\u001b[38;5;28;43;01mNone\u001b[39;49;00m\u001b[43m,\u001b[49m\n\u001b[1;32m    277\u001b[0m \u001b[43m        \u001b[49m\u001b[43mfit_params\u001b[49m\u001b[43m,\u001b[49m\n\u001b[1;32m    278\u001b[0m \u001b[43m        \u001b[49m\u001b[43mreturn_train_score\u001b[49m\u001b[38;5;241;43m=\u001b[39;49m\u001b[43mreturn_train_score\u001b[49m\u001b[43m,\u001b[49m\n\u001b[1;32m    279\u001b[0m \u001b[43m        \u001b[49m\u001b[43mreturn_times\u001b[49m\u001b[38;5;241;43m=\u001b[39;49m\u001b[38;5;28;43;01mTrue\u001b[39;49;00m\u001b[43m,\u001b[49m\n\u001b[1;32m    280\u001b[0m \u001b[43m        \u001b[49m\u001b[43mreturn_estimator\u001b[49m\u001b[38;5;241;43m=\u001b[39;49m\u001b[43mreturn_estimator\u001b[49m\u001b[43m,\u001b[49m\n\u001b[1;32m    281\u001b[0m \u001b[43m        \u001b[49m\u001b[43merror_score\u001b[49m\u001b[38;5;241;43m=\u001b[39;49m\u001b[43merror_score\u001b[49m\u001b[43m,\u001b[49m\n\u001b[1;32m    282\u001b[0m \u001b[43m    \u001b[49m\u001b[43m)\u001b[49m\n\u001b[1;32m    283\u001b[0m \u001b[43m    \u001b[49m\u001b[38;5;28;43;01mfor\u001b[39;49;00m\u001b[43m \u001b[49m\u001b[43mtrain\u001b[49m\u001b[43m,\u001b[49m\u001b[43m \u001b[49m\u001b[43mtest\u001b[49m\u001b[43m \u001b[49m\u001b[38;5;129;43;01min\u001b[39;49;00m\u001b[43m \u001b[49m\u001b[43mcv\u001b[49m\u001b[38;5;241;43m.\u001b[39;49m\u001b[43msplit\u001b[49m\u001b[43m(\u001b[49m\u001b[43mX\u001b[49m\u001b[43m,\u001b[49m\u001b[43m \u001b[49m\u001b[43my\u001b[49m\u001b[43m,\u001b[49m\u001b[43m \u001b[49m\u001b[43mgroups\u001b[49m\u001b[43m)\u001b[49m\n\u001b[1;32m    284\u001b[0m \u001b[43m\u001b[49m\u001b[43m)\u001b[49m\n\u001b[1;32m    286\u001b[0m _warn_about_fit_failures(results, error_score)\n\u001b[1;32m    288\u001b[0m \u001b[38;5;66;03m# For callabe scoring, the return type is only know after calling. If the\u001b[39;00m\n\u001b[1;32m    289\u001b[0m \u001b[38;5;66;03m# return type is a dictionary, the error scores can now be inserted with\u001b[39;00m\n\u001b[1;32m    290\u001b[0m \u001b[38;5;66;03m# the correct key.\u001b[39;00m\n",
      "File \u001b[0;32m~/.local/lib/python3.9/site-packages/joblib/parallel.py:1056\u001b[0m, in \u001b[0;36mParallel.__call__\u001b[0;34m(self, iterable)\u001b[0m\n\u001b[1;32m   1053\u001b[0m     \u001b[38;5;28mself\u001b[39m\u001b[38;5;241m.\u001b[39m_iterating \u001b[38;5;241m=\u001b[39m \u001b[38;5;28;01mFalse\u001b[39;00m\n\u001b[1;32m   1055\u001b[0m \u001b[38;5;28;01mwith\u001b[39;00m \u001b[38;5;28mself\u001b[39m\u001b[38;5;241m.\u001b[39m_backend\u001b[38;5;241m.\u001b[39mretrieval_context():\n\u001b[0;32m-> 1056\u001b[0m     \u001b[38;5;28;43mself\u001b[39;49m\u001b[38;5;241;43m.\u001b[39;49m\u001b[43mretrieve\u001b[49m\u001b[43m(\u001b[49m\u001b[43m)\u001b[49m\n\u001b[1;32m   1057\u001b[0m \u001b[38;5;66;03m# Make sure that we get a last message telling us we are done\u001b[39;00m\n\u001b[1;32m   1058\u001b[0m elapsed_time \u001b[38;5;241m=\u001b[39m time\u001b[38;5;241m.\u001b[39mtime() \u001b[38;5;241m-\u001b[39m \u001b[38;5;28mself\u001b[39m\u001b[38;5;241m.\u001b[39m_start_time\n",
      "File \u001b[0;32m~/.local/lib/python3.9/site-packages/joblib/parallel.py:935\u001b[0m, in \u001b[0;36mParallel.retrieve\u001b[0;34m(self)\u001b[0m\n\u001b[1;32m    933\u001b[0m \u001b[38;5;28;01mtry\u001b[39;00m:\n\u001b[1;32m    934\u001b[0m     \u001b[38;5;28;01mif\u001b[39;00m \u001b[38;5;28mgetattr\u001b[39m(\u001b[38;5;28mself\u001b[39m\u001b[38;5;241m.\u001b[39m_backend, \u001b[38;5;124m'\u001b[39m\u001b[38;5;124msupports_timeout\u001b[39m\u001b[38;5;124m'\u001b[39m, \u001b[38;5;28;01mFalse\u001b[39;00m):\n\u001b[0;32m--> 935\u001b[0m         \u001b[38;5;28mself\u001b[39m\u001b[38;5;241m.\u001b[39m_output\u001b[38;5;241m.\u001b[39mextend(\u001b[43mjob\u001b[49m\u001b[38;5;241;43m.\u001b[39;49m\u001b[43mget\u001b[49m\u001b[43m(\u001b[49m\u001b[43mtimeout\u001b[49m\u001b[38;5;241;43m=\u001b[39;49m\u001b[38;5;28;43mself\u001b[39;49m\u001b[38;5;241;43m.\u001b[39;49m\u001b[43mtimeout\u001b[49m\u001b[43m)\u001b[49m)\n\u001b[1;32m    936\u001b[0m     \u001b[38;5;28;01melse\u001b[39;00m:\n\u001b[1;32m    937\u001b[0m         \u001b[38;5;28mself\u001b[39m\u001b[38;5;241m.\u001b[39m_output\u001b[38;5;241m.\u001b[39mextend(job\u001b[38;5;241m.\u001b[39mget())\n",
      "File \u001b[0;32m~/.local/lib/python3.9/site-packages/joblib/_parallel_backends.py:542\u001b[0m, in \u001b[0;36mLokyBackend.wrap_future_result\u001b[0;34m(future, timeout)\u001b[0m\n\u001b[1;32m    539\u001b[0m \u001b[38;5;124;03m\"\"\"Wrapper for Future.result to implement the same behaviour as\u001b[39;00m\n\u001b[1;32m    540\u001b[0m \u001b[38;5;124;03mAsyncResults.get from multiprocessing.\"\"\"\u001b[39;00m\n\u001b[1;32m    541\u001b[0m \u001b[38;5;28;01mtry\u001b[39;00m:\n\u001b[0;32m--> 542\u001b[0m     \u001b[38;5;28;01mreturn\u001b[39;00m \u001b[43mfuture\u001b[49m\u001b[38;5;241;43m.\u001b[39;49m\u001b[43mresult\u001b[49m\u001b[43m(\u001b[49m\u001b[43mtimeout\u001b[49m\u001b[38;5;241;43m=\u001b[39;49m\u001b[43mtimeout\u001b[49m\u001b[43m)\u001b[49m\n\u001b[1;32m    543\u001b[0m \u001b[38;5;28;01mexcept\u001b[39;00m CfTimeoutError \u001b[38;5;28;01mas\u001b[39;00m e:\n\u001b[1;32m    544\u001b[0m     \u001b[38;5;28;01mraise\u001b[39;00m \u001b[38;5;167;01mTimeoutError\u001b[39;00m \u001b[38;5;28;01mfrom\u001b[39;00m \u001b[38;5;21;01me\u001b[39;00m\n",
      "File \u001b[0;32m/usr/lib/python3.9/concurrent/futures/_base.py:440\u001b[0m, in \u001b[0;36mFuture.result\u001b[0;34m(self, timeout)\u001b[0m\n\u001b[1;32m    437\u001b[0m \u001b[38;5;28;01melif\u001b[39;00m \u001b[38;5;28mself\u001b[39m\u001b[38;5;241m.\u001b[39m_state \u001b[38;5;241m==\u001b[39m FINISHED:\n\u001b[1;32m    438\u001b[0m     \u001b[38;5;28;01mreturn\u001b[39;00m \u001b[38;5;28mself\u001b[39m\u001b[38;5;241m.\u001b[39m__get_result()\n\u001b[0;32m--> 440\u001b[0m \u001b[38;5;28;43mself\u001b[39;49m\u001b[38;5;241;43m.\u001b[39;49m\u001b[43m_condition\u001b[49m\u001b[38;5;241;43m.\u001b[39;49m\u001b[43mwait\u001b[49m\u001b[43m(\u001b[49m\u001b[43mtimeout\u001b[49m\u001b[43m)\u001b[49m\n\u001b[1;32m    442\u001b[0m \u001b[38;5;28;01mif\u001b[39;00m \u001b[38;5;28mself\u001b[39m\u001b[38;5;241m.\u001b[39m_state \u001b[38;5;129;01min\u001b[39;00m [CANCELLED, CANCELLED_AND_NOTIFIED]:\n\u001b[1;32m    443\u001b[0m     \u001b[38;5;28;01mraise\u001b[39;00m CancelledError()\n",
      "File \u001b[0;32m/usr/lib/python3.9/threading.py:312\u001b[0m, in \u001b[0;36mCondition.wait\u001b[0;34m(self, timeout)\u001b[0m\n\u001b[1;32m    310\u001b[0m \u001b[38;5;28;01mtry\u001b[39;00m:    \u001b[38;5;66;03m# restore state no matter what (e.g., KeyboardInterrupt)\u001b[39;00m\n\u001b[1;32m    311\u001b[0m     \u001b[38;5;28;01mif\u001b[39;00m timeout \u001b[38;5;129;01mis\u001b[39;00m \u001b[38;5;28;01mNone\u001b[39;00m:\n\u001b[0;32m--> 312\u001b[0m         \u001b[43mwaiter\u001b[49m\u001b[38;5;241;43m.\u001b[39;49m\u001b[43macquire\u001b[49m\u001b[43m(\u001b[49m\u001b[43m)\u001b[49m\n\u001b[1;32m    313\u001b[0m         gotit \u001b[38;5;241m=\u001b[39m \u001b[38;5;28;01mTrue\u001b[39;00m\n\u001b[1;32m    314\u001b[0m     \u001b[38;5;28;01melse\u001b[39;00m:\n",
      "\u001b[0;31mKeyboardInterrupt\u001b[0m: "
     ]
    }
   ],
   "source": [
    "evaluate_models(tuned_models, x_test, y_test, x_scal, y_disc)"
   ]
  },
  {
   "cell_type": "markdown",
   "metadata": {},
   "source": [
    "## Note 3\n",
    "The outliers were removed from the entire dataset using zscore, assuming there was noise in the dataset. The dataset has been divided into two sections: train and test. Four distinct models were trained, tested, and evaluated. It was discovered that the unbalanced dataset resulted in excellent accuracy but a very poor f1_macro. \n",
    "The larger classes were undersampled, while the smaller classes were oversampled. The first two classes each have 2/7 samples, while the last three classes each have 1/7 samples.\n",
    "This division still keeps the classes unbalanced, but it is much less severe than it was at the start. Furthermore, I think that this sample division is more useful for solving the problem at hand than having the same number of samples for all classes. This is because, given the nature of the problem (prediction of the share of articles), I think that classes 0 and 1 will be far more populated than classes 2, 3, and 4. Non-viral articles outnumber viral articles.\n",
    "With the new dataset, models were trained, tested, and evaluated. These demonstrate a significant improvement in f1_macro. SVM was chosen as the best model and it was tuned. Because of the computational complexity of SVM, the tuning was done on a smaller grid than I would have preferred.\n",
    "The SVM with the following parameters {} is the best model for solving the problem The resulting performance demonstrates this."
   ]
  },
  {
   "cell_type": "markdown",
   "metadata": {},
   "source": [
    "<hr>\n",
    "\n",
    "# 4. Summary\n",
    "Provide a summary discussion (in English) of your solution <b>(at least 500 words)</b> feel free to include plots figures and tables.\n",
    "\n",
    "<b>This is a mandatory step</b>"
   ]
  },
  {
   "cell_type": "markdown",
   "metadata": {},
   "source": [
    "write here <b>your own</b> summary dicussion (in English) use at least 500 words, "
   ]
  },
  {
   "cell_type": "code",
   "execution_count": null,
   "metadata": {},
   "outputs": [],
   "source": []
  }
 ],
 "metadata": {
  "kernelspec": {
   "display_name": "Python 3 (ipykernel)",
   "language": "python",
   "name": "python3"
  },
  "language_info": {
   "codemirror_mode": {
    "name": "ipython",
    "version": 3
   },
   "file_extension": ".py",
   "mimetype": "text/x-python",
   "name": "python",
   "nbconvert_exporter": "python",
   "pygments_lexer": "ipython3",
   "version": "3.9.7"
  }
 },
 "nbformat": 4,
 "nbformat_minor": 4
}
